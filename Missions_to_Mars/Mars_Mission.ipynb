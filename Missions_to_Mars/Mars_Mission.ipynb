{
 "cells": [
  {
   "cell_type": "code",
   "execution_count": 1,
   "id": "9419831a",
   "metadata": {},
   "outputs": [],
   "source": [
    "# Import Splinter, BeautifulSoup, and Pandas\n",
    "from splinter import Browser\n",
    "from bs4 import BeautifulSoup as soup\n",
    "import pandas as pd\n",
    "from webdriver_manager.chrome import ChromeDriverManager"
   ]
  },
  {
   "cell_type": "code",
   "execution_count": 2,
   "id": "3dece0e1",
   "metadata": {},
   "outputs": [
    {
     "name": "stderr",
     "output_type": "stream",
     "text": [
      "\n",
      "\n",
      "====== WebDriver manager ======\n",
      "Current google-chrome version is 98.0.4758\n",
      "Get LATEST chromedriver version for 98.0.4758 google-chrome\n",
      "Trying to download new driver from https://chromedriver.storage.googleapis.com/98.0.4758.102/chromedriver_win32.zip\n",
      "Driver has been saved in cache [C:\\Users\\905294\\.wdm\\drivers\\chromedriver\\win32\\98.0.4758.102]\n"
     ]
    }
   ],
   "source": [
    "# Set up Splinter\n",
    "executable_path = {'executable_path': ChromeDriverManager().install()}\n",
    "browser = Browser('chrome', **executable_path, headless=False)"
   ]
  },
  {
   "cell_type": "code",
   "execution_count": 3,
   "id": "07beb924",
   "metadata": {},
   "outputs": [],
   "source": [
    "url = \"https://redplanetscience.com/\""
   ]
  },
  {
   "cell_type": "code",
   "execution_count": 4,
   "id": "93ba4442",
   "metadata": {},
   "outputs": [],
   "source": [
    "browser.visit(url)"
   ]
  },
  {
   "cell_type": "code",
   "execution_count": 5,
   "id": "999bc58b",
   "metadata": {},
   "outputs": [
    {
     "data": {
      "text/plain": [
       "True"
      ]
     },
     "execution_count": 5,
     "metadata": {},
     "output_type": "execute_result"
    }
   ],
   "source": [
    "browser.is_element_present_by_css('div.list_text', wait_time=1)"
   ]
  },
  {
   "cell_type": "code",
   "execution_count": 6,
   "id": "3d042712",
   "metadata": {},
   "outputs": [
    {
     "data": {
      "text/plain": [
       "'<html><head>\\n      <meta charset=\"utf-8\">\\n      <meta name=\"viewport\" content=\"width=device-width, initial-scale=1\">\\n      <link href=\"https://cdn.jsdelivr.net/npm/bootstrap@5.0.0-beta1/dist/css/bootstrap.min.css\" rel=\"stylesheet\" integrity=\"sha384-giJF6kkoqNQ00vy+HMDP7azOuL0xtbfIcaT9wjKHr8RbDVddVHyTfAAsrekwKmP1\" crossorigin=\"anonymous\">\\n      <link rel=\"stylesheet\" type=\"text/css\" href=\"css/font.css\">\\n      <link rel=\"stylesheet\" type=\"text/css\" href=\"css/app.css\">\\n      <link rel=\"stylesheet\" href=\"https://pro.fontawesome.com/releases/v5.10.0/css/all.css\" integrity=\"sha384-AYmEC3Yw5cVb3ZcuHtOA93w35dYTsvhLPVnYs9eStHfGJvOvKxVfELGroGkvsg+p\" crossorigin=\"anonymous\">\\n      <title>News - Mars Exploration Program</title>\\n   </head>\\n   <body>\\n      <div class=\"col-md-12\">\\n      <div class=\"row\">\\n      <nav class=\"navbar navbar-expand-lg navbar-light fixed-top\">\\n         <div class=\"container-fluid\">\\n            <a class=\"navbar-brand\" href=\"#\"> \\n            <img src=\"image/nasa.png\" width=\"80\"><span class=\"logo\">MARS Planet Science</span>\\n            <span class=\"logo1\">Exploration Program</span>\\n            </a>\\n            <button class=\"navbar-toggler\" type=\"button\" data-bs-toggle=\"collapse\" data-bs-target=\"#navbarNav\" aria-controls=\"navbarNav\" aria-expanded=\"false\" aria-label=\"Toggle navigation\">\\n            <span class=\"navbar-toggler-icon\"></span>\\n            </button>\\n            <div class=\"collapse navbar-collapse justify-content-end\" id=\"navbarNav\">\\n               <ul class=\"navbar-nav\">\\n                  <li class=\"nav-item\">\\n                     <a class=\"nav-link active\" aria-current=\"page\" href=\"#\">The Red Planet</a>\\n                  </li>\\n                  <li class=\"nav-item\">\\n                     <a class=\"nav-link\" href=\"#\">The Program</a>\\n                  </li>\\n                  <li class=\"nav-item\">\\n                     <a class=\"nav-link\" href=\"#\">News &amp; Events</a>\\n                  </li>\\n                  <li class=\"nav-item\">\\n                     <a class=\"nav-link\" href=\"#\">Multimedia</a>\\n                  </li>\\n                  <li class=\"nav-item\">\\n                     <a class=\"nav-link\" href=\"#\">Missions</a>\\n                  </li>\\n                  <li class=\"nav-item\">\\n                     <a class=\"nav-link\" href=\"#\">More</a>\\n                  </li>\\n                  <li class=\"nav-item nav_search\">\\n                     <a class=\"nav-link \" href=\"#\"></a>\\n                  </li>\\n               </ul>\\n            </div>\\n         </div>\\n      </nav>\\n      <section class=\"search\">\\n         <div class=\"container\">\\n            <h1>News</h1>\\n            <div class=\"col-md-12 filter\">\\n               <div class=\"row\">\\n                  <div class=\"col-md-3 search_binder\">\\n                     <input type=\"text\" name=\"search\" class=\"search_field\">\\n                     <input type=\"text\" name=\"search\" class=\"search_submit\">\\n                  </div>\\n                  <div class=\"col-md-3\">\\n                     <select id=\"year\" class=\"form-select \" aria-label=\"Default select example\">\\n                        <option selected=\"\">Latest</option>\\n\\n                     <option>2019</option><option>2020</option></select>\\n                  </div>\\n                  <div class=\"col-md-3\">\\n                     <select id=\"cat\" class=\"form-select \" aria-label=\"Default select example\">\\n                        <option selected=\"\">All Categories</option>\\n\\n                     <option>Feature Stories</option><option>Press Releases</option><option>Status Reports</option></select>\\n                  </div>\\n                  <div class=\"col-md-3\">\\t\\t\\t\\t\\t\\t\\n                  </div>\\n               </div>\\n            </div>\\n         </div>\\n      </section>\\n      <section class=\"image_and_description_container\">\\n         <div id=\"news\" class=\"container \">\\n\\n         \\n\\t\\t\\t\\t\\t\\t\\t\\t<div class=\"col-md-12\">\\n\\t\\t\\t\\t\\t\\t\\t\\t\\t   <hr>\\n\\t\\t\\t\\t\\t\\t\\t\\t\\t   <div class=\"row\">\\n\\t\\t\\t\\t\\t\\t\\t\\t\\t\\t  <div class=\"col-md-4\">\\n\\t\\t\\t\\t\\t\\t\\t\\t\\t\\t\\t <div class=\"list_image\">\\n\\t\\t\\t\\t\\t\\t\\t\\t\\t\\t\\t\\t<img src=\"https://mars.nasa.gov/system/news_items/list_view_images/8567_PIA23517-320x240.jpg\">\\n\\t\\t\\t\\t\\t\\t\\t\\t\\t\\t\\t </div>\\n\\t\\t\\t\\t\\t\\t\\t\\t\\t\\t  </div>\\n\\t\\t\\t\\t\\t\\t\\t\\t\\t\\t  <div class=\"col-md-8\">\\n\\t\\t\\t\\t\\t\\t\\t\\t\\t\\t  \\t<div class=\"list_text\">\\n\\t\\t\\t\\t\\t\\t\\t\\t\\t\\t\\t <div class=\"list_date\">March 9, 2022</div>\\n\\t\\t\\t\\t\\t\\t\\t\\t\\t\\t\\t <div class=\"content_title\">Two Rovers to Roll on Mars Again: Curiosity and Mars 2020</div>\\n\\t\\t\\t\\t\\t\\t\\t\\t\\t\\t\\t <div class=\"article_teaser_body\">They look like twins. But under the hood, the rover currently exploring the Red Planet and the one launching there this summer have distinct science tools and roles to play.</div>\\n\\t\\t\\t\\t\\t\\t\\t\\t\\t\\t\\t </div>\\n\\t\\t\\t\\t\\t\\t\\t\\t\\t\\t  </div>\\n\\t\\t\\t\\t\\t\\t\\t\\t\\t   </div>\\n\\t\\t\\t\\t\\t\\t\\t\\t\\t</div>\\n\\t\\t\\t\\t\\t\\t\\n\\t\\t\\t\\t\\t\\t\\t\\t<div class=\"col-md-12\">\\n\\t\\t\\t\\t\\t\\t\\t\\t\\t   <hr>\\n\\t\\t\\t\\t\\t\\t\\t\\t\\t   <div class=\"row\">\\n\\t\\t\\t\\t\\t\\t\\t\\t\\t\\t  <div class=\"col-md-4\">\\n\\t\\t\\t\\t\\t\\t\\t\\t\\t\\t\\t <div class=\"list_image\">\\n\\t\\t\\t\\t\\t\\t\\t\\t\\t\\t\\t\\t<img src=\"https://mars.nasa.gov/system/news_items/list_view_images/8782_PIA-23989-320.jpg\">\\n\\t\\t\\t\\t\\t\\t\\t\\t\\t\\t\\t </div>\\n\\t\\t\\t\\t\\t\\t\\t\\t\\t\\t  </div>\\n\\t\\t\\t\\t\\t\\t\\t\\t\\t\\t  <div class=\"col-md-8\">\\n\\t\\t\\t\\t\\t\\t\\t\\t\\t\\t  \\t<div class=\"list_text\">\\n\\t\\t\\t\\t\\t\\t\\t\\t\\t\\t\\t <div class=\"list_date\">March 8, 2022</div>\\n\\t\\t\\t\\t\\t\\t\\t\\t\\t\\t\\t <div class=\"content_title\">Sensors on Mars 2020 Spacecraft Answer Long-Distance Call From Earth</div>\\n\\t\\t\\t\\t\\t\\t\\t\\t\\t\\t\\t <div class=\"article_teaser_body\">Instruments tailored to collect data during the descent of NASA\\'s next rover through the Red Planet\\'s atmosphere have been checked in flight.</div>\\n\\t\\t\\t\\t\\t\\t\\t\\t\\t\\t\\t </div>\\n\\t\\t\\t\\t\\t\\t\\t\\t\\t\\t  </div>\\n\\t\\t\\t\\t\\t\\t\\t\\t\\t   </div>\\n\\t\\t\\t\\t\\t\\t\\t\\t\\t</div>\\n\\t\\t\\t\\t\\t\\t\\n\\t\\t\\t\\t\\t\\t\\t\\t<div class=\"col-md-12\">\\n\\t\\t\\t\\t\\t\\t\\t\\t\\t   <hr>\\n\\t\\t\\t\\t\\t\\t\\t\\t\\t   <div class=\"row\">\\n\\t\\t\\t\\t\\t\\t\\t\\t\\t\\t  <div class=\"col-md-4\">\\n\\t\\t\\t\\t\\t\\t\\t\\t\\t\\t\\t <div class=\"list_image\">\\n\\t\\t\\t\\t\\t\\t\\t\\t\\t\\t\\t\\t<img src=\"https://mars.nasa.gov/system/news_items/list_view_images/8588_name20190625-320x240.jpg\">\\n\\t\\t\\t\\t\\t\\t\\t\\t\\t\\t\\t </div>\\n\\t\\t\\t\\t\\t\\t\\t\\t\\t\\t  </div>\\n\\t\\t\\t\\t\\t\\t\\t\\t\\t\\t  <div class=\"col-md-8\">\\n\\t\\t\\t\\t\\t\\t\\t\\t\\t\\t  \\t<div class=\"list_text\">\\n\\t\\t\\t\\t\\t\\t\\t\\t\\t\\t\\t <div class=\"list_date\">March 8, 2022</div>\\n\\t\\t\\t\\t\\t\\t\\t\\t\\t\\t\\t <div class=\"content_title\">Nine Finalists Chosen in NASA\\'s Mars 2020 Rover Naming Contest</div>\\n\\t\\t\\t\\t\\t\\t\\t\\t\\t\\t\\t <div class=\"article_teaser_body\">Nine finalists have been chosen in the essay contest for K-12 students across U.S. to name NASA\\'s next Mars rover. Now you can help by voting for your favorite. </div>\\n\\t\\t\\t\\t\\t\\t\\t\\t\\t\\t\\t </div>\\n\\t\\t\\t\\t\\t\\t\\t\\t\\t\\t  </div>\\n\\t\\t\\t\\t\\t\\t\\t\\t\\t   </div>\\n\\t\\t\\t\\t\\t\\t\\t\\t\\t</div>\\n\\t\\t\\t\\t\\t\\t\\n\\t\\t\\t\\t\\t\\t\\t\\t<div class=\"col-md-12\">\\n\\t\\t\\t\\t\\t\\t\\t\\t\\t   <hr>\\n\\t\\t\\t\\t\\t\\t\\t\\t\\t   <div class=\"row\">\\n\\t\\t\\t\\t\\t\\t\\t\\t\\t\\t  <div class=\"col-md-4\">\\n\\t\\t\\t\\t\\t\\t\\t\\t\\t\\t\\t <div class=\"list_image\">\\n\\t\\t\\t\\t\\t\\t\\t\\t\\t\\t\\t\\t<img src=\"https://mars.nasa.gov/system/news_items/list_view_images/8675_Webby_main_320x240.jpg\">\\n\\t\\t\\t\\t\\t\\t\\t\\t\\t\\t\\t </div>\\n\\t\\t\\t\\t\\t\\t\\t\\t\\t\\t  </div>\\n\\t\\t\\t\\t\\t\\t\\t\\t\\t\\t  <div class=\"col-md-8\">\\n\\t\\t\\t\\t\\t\\t\\t\\t\\t\\t  \\t<div class=\"list_text\">\\n\\t\\t\\t\\t\\t\\t\\t\\t\\t\\t\\t <div class=\"list_date\">March 8, 2022</div>\\n\\t\\t\\t\\t\\t\\t\\t\\t\\t\\t\\t <div class=\"content_title\">NASA Wins 4 Webbys, 4 People\\'s Voice Awards</div>\\n\\t\\t\\t\\t\\t\\t\\t\\t\\t\\t\\t <div class=\"article_teaser_body\">Winners include the JPL-managed \"Send Your Name to Mars\" campaign, NASA\\'s Global Climate Change website and Solar System Interactive.</div>\\n\\t\\t\\t\\t\\t\\t\\t\\t\\t\\t\\t </div>\\n\\t\\t\\t\\t\\t\\t\\t\\t\\t\\t  </div>\\n\\t\\t\\t\\t\\t\\t\\t\\t\\t   </div>\\n\\t\\t\\t\\t\\t\\t\\t\\t\\t</div>\\n\\t\\t\\t\\t\\t\\t\\n\\t\\t\\t\\t\\t\\t\\t\\t<div class=\"col-md-12\">\\n\\t\\t\\t\\t\\t\\t\\t\\t\\t   <hr>\\n\\t\\t\\t\\t\\t\\t\\t\\t\\t   <div class=\"row\">\\n\\t\\t\\t\\t\\t\\t\\t\\t\\t\\t  <div class=\"col-md-4\">\\n\\t\\t\\t\\t\\t\\t\\t\\t\\t\\t\\t <div class=\"list_image\">\\n\\t\\t\\t\\t\\t\\t\\t\\t\\t\\t\\t\\t<img src=\"https://mars.nasa.gov/system/news_items/list_view_images/8613_InSight-Nature-papers-320x240.jpg\">\\n\\t\\t\\t\\t\\t\\t\\t\\t\\t\\t\\t </div>\\n\\t\\t\\t\\t\\t\\t\\t\\t\\t\\t  </div>\\n\\t\\t\\t\\t\\t\\t\\t\\t\\t\\t  <div class=\"col-md-8\">\\n\\t\\t\\t\\t\\t\\t\\t\\t\\t\\t  \\t<div class=\"list_text\">\\n\\t\\t\\t\\t\\t\\t\\t\\t\\t\\t\\t <div class=\"list_date\">March 5, 2022</div>\\n\\t\\t\\t\\t\\t\\t\\t\\t\\t\\t\\t <div class=\"content_title\">A Year of Surprising Science From NASA\\'s InSight Mars Mission</div>\\n\\t\\t\\t\\t\\t\\t\\t\\t\\t\\t\\t <div class=\"article_teaser_body\">A batch of new papers summarizes the lander\\'s findings above and below the surface of the Red Planet.</div>\\n\\t\\t\\t\\t\\t\\t\\t\\t\\t\\t\\t </div>\\n\\t\\t\\t\\t\\t\\t\\t\\t\\t\\t  </div>\\n\\t\\t\\t\\t\\t\\t\\t\\t\\t   </div>\\n\\t\\t\\t\\t\\t\\t\\t\\t\\t</div>\\n\\t\\t\\t\\t\\t\\t\\n\\t\\t\\t\\t\\t\\t\\t\\t<div class=\"col-md-12\">\\n\\t\\t\\t\\t\\t\\t\\t\\t\\t   <hr>\\n\\t\\t\\t\\t\\t\\t\\t\\t\\t   <div class=\"row\">\\n\\t\\t\\t\\t\\t\\t\\t\\t\\t\\t  <div class=\"col-md-4\">\\n\\t\\t\\t\\t\\t\\t\\t\\t\\t\\t\\t <div class=\"list_image\">\\n\\t\\t\\t\\t\\t\\t\\t\\t\\t\\t\\t\\t<img src=\"https://mars.nasa.gov/system/news_items/list_view_images/8704_PIA23973-320x240.jpg\">\\n\\t\\t\\t\\t\\t\\t\\t\\t\\t\\t\\t </div>\\n\\t\\t\\t\\t\\t\\t\\t\\t\\t\\t  </div>\\n\\t\\t\\t\\t\\t\\t\\t\\t\\t\\t  <div class=\"col-md-8\">\\n\\t\\t\\t\\t\\t\\t\\t\\t\\t\\t  \\t<div class=\"list_text\">\\n\\t\\t\\t\\t\\t\\t\\t\\t\\t\\t\\t <div class=\"list_date\">March 4, 2022</div>\\n\\t\\t\\t\\t\\t\\t\\t\\t\\t\\t\\t <div class=\"content_title\">Curiosity Mars Rover\\'s Summer Road Trip Has Begun</div>\\n\\t\\t\\t\\t\\t\\t\\t\\t\\t\\t\\t <div class=\"article_teaser_body\">After more than a year in the \"clay-bearing unit,\" Curiosity is making a mile-long journey around some deep sand so that it can explore higher up Mount Sharp.</div>\\n\\t\\t\\t\\t\\t\\t\\t\\t\\t\\t\\t </div>\\n\\t\\t\\t\\t\\t\\t\\t\\t\\t\\t  </div>\\n\\t\\t\\t\\t\\t\\t\\t\\t\\t   </div>\\n\\t\\t\\t\\t\\t\\t\\t\\t\\t</div>\\n\\t\\t\\t\\t\\t\\t\\n\\t\\t\\t\\t\\t\\t\\t\\t<div class=\"col-md-12\">\\n\\t\\t\\t\\t\\t\\t\\t\\t\\t   <hr>\\n\\t\\t\\t\\t\\t\\t\\t\\t\\t   <div class=\"row\">\\n\\t\\t\\t\\t\\t\\t\\t\\t\\t\\t  <div class=\"col-md-4\">\\n\\t\\t\\t\\t\\t\\t\\t\\t\\t\\t\\t <div class=\"list_image\">\\n\\t\\t\\t\\t\\t\\t\\t\\t\\t\\t\\t\\t<img src=\"https://mars.nasa.gov/system/news_items/list_view_images/8695_24732_PIA23499-226.jpg\">\\n\\t\\t\\t\\t\\t\\t\\t\\t\\t\\t\\t </div>\\n\\t\\t\\t\\t\\t\\t\\t\\t\\t\\t  </div>\\n\\t\\t\\t\\t\\t\\t\\t\\t\\t\\t  <div class=\"col-md-8\">\\n\\t\\t\\t\\t\\t\\t\\t\\t\\t\\t  \\t<div class=\"list_text\">\\n\\t\\t\\t\\t\\t\\t\\t\\t\\t\\t\\t <div class=\"list_date\">February 28, 2022</div>\\n\\t\\t\\t\\t\\t\\t\\t\\t\\t\\t\\t <div class=\"content_title\">The Launch Is Approaching for NASA\\'s Next Mars Rover, Perseverance</div>\\n\\t\\t\\t\\t\\t\\t\\t\\t\\t\\t\\t <div class=\"article_teaser_body\">The Red Planet\\'s surface has been visited by eight NASA spacecraft. The ninth will be the first that includes a roundtrip ticket in its flight plan. </div>\\n\\t\\t\\t\\t\\t\\t\\t\\t\\t\\t\\t </div>\\n\\t\\t\\t\\t\\t\\t\\t\\t\\t\\t  </div>\\n\\t\\t\\t\\t\\t\\t\\t\\t\\t   </div>\\n\\t\\t\\t\\t\\t\\t\\t\\t\\t</div>\\n\\t\\t\\t\\t\\t\\t\\n\\t\\t\\t\\t\\t\\t\\t\\t<div class=\"col-md-12\">\\n\\t\\t\\t\\t\\t\\t\\t\\t\\t   <hr>\\n\\t\\t\\t\\t\\t\\t\\t\\t\\t   <div class=\"row\">\\n\\t\\t\\t\\t\\t\\t\\t\\t\\t\\t  <div class=\"col-md-4\">\\n\\t\\t\\t\\t\\t\\t\\t\\t\\t\\t\\t <div class=\"list_image\">\\n\\t\\t\\t\\t\\t\\t\\t\\t\\t\\t\\t\\t<img src=\"https://mars.nasa.gov/system/news_items/list_view_images/8749_PIA23964-320.jpg\">\\n\\t\\t\\t\\t\\t\\t\\t\\t\\t\\t\\t </div>\\n\\t\\t\\t\\t\\t\\t\\t\\t\\t\\t  </div>\\n\\t\\t\\t\\t\\t\\t\\t\\t\\t\\t  <div class=\"col-md-8\">\\n\\t\\t\\t\\t\\t\\t\\t\\t\\t\\t  \\t<div class=\"list_text\">\\n\\t\\t\\t\\t\\t\\t\\t\\t\\t\\t\\t <div class=\"list_date\">February 27, 2022</div>\\n\\t\\t\\t\\t\\t\\t\\t\\t\\t\\t\\t <div class=\"content_title\">NASA Readies Perseverance Mars Rover\\'s Earthly Twin </div>\\n\\t\\t\\t\\t\\t\\t\\t\\t\\t\\t\\t <div class=\"article_teaser_body\">Did you know NASA\\'s next Mars rover has a nearly identical sibling on Earth for testing? Even better, it\\'s about to roll for the first time through a replica Martian landscape.</div>\\n\\t\\t\\t\\t\\t\\t\\t\\t\\t\\t\\t </div>\\n\\t\\t\\t\\t\\t\\t\\t\\t\\t\\t  </div>\\n\\t\\t\\t\\t\\t\\t\\t\\t\\t   </div>\\n\\t\\t\\t\\t\\t\\t\\t\\t\\t</div>\\n\\t\\t\\t\\t\\t\\t\\n\\t\\t\\t\\t\\t\\t\\t\\t<div class=\"col-md-12\">\\n\\t\\t\\t\\t\\t\\t\\t\\t\\t   <hr>\\n\\t\\t\\t\\t\\t\\t\\t\\t\\t   <div class=\"row\">\\n\\t\\t\\t\\t\\t\\t\\t\\t\\t\\t  <div class=\"col-md-4\">\\n\\t\\t\\t\\t\\t\\t\\t\\t\\t\\t\\t <div class=\"list_image\">\\n\\t\\t\\t\\t\\t\\t\\t\\t\\t\\t\\t\\t<img src=\"https://mars.nasa.gov/system/news_items/list_view_images/8558_PIA23513-32x24.jpg\">\\n\\t\\t\\t\\t\\t\\t\\t\\t\\t\\t\\t </div>\\n\\t\\t\\t\\t\\t\\t\\t\\t\\t\\t  </div>\\n\\t\\t\\t\\t\\t\\t\\t\\t\\t\\t  <div class=\"col-md-8\">\\n\\t\\t\\t\\t\\t\\t\\t\\t\\t\\t  \\t<div class=\"list_text\">\\n\\t\\t\\t\\t\\t\\t\\t\\t\\t\\t\\t <div class=\"list_date\">February 21, 2022</div>\\n\\t\\t\\t\\t\\t\\t\\t\\t\\t\\t\\t <div class=\"content_title\">Global Storms on Mars Launch Dust Towers Into the Sky</div>\\n\\t\\t\\t\\t\\t\\t\\t\\t\\t\\t\\t <div class=\"article_teaser_body\">A Mars Dust Tower Stands Out Dust storms are common on Mars. But every decade or so, something unpredictable happens: a series of runaway storms break out, covering the entire planet in a dusty haze.</div>\\n\\t\\t\\t\\t\\t\\t\\t\\t\\t\\t\\t </div>\\n\\t\\t\\t\\t\\t\\t\\t\\t\\t\\t  </div>\\n\\t\\t\\t\\t\\t\\t\\t\\t\\t   </div>\\n\\t\\t\\t\\t\\t\\t\\t\\t\\t</div>\\n\\t\\t\\t\\t\\t\\t\\n\\t\\t\\t\\t\\t\\t\\t\\t<div class=\"col-md-12\">\\n\\t\\t\\t\\t\\t\\t\\t\\t\\t   <hr>\\n\\t\\t\\t\\t\\t\\t\\t\\t\\t   <div class=\"row\">\\n\\t\\t\\t\\t\\t\\t\\t\\t\\t\\t  <div class=\"col-md-4\">\\n\\t\\t\\t\\t\\t\\t\\t\\t\\t\\t\\t <div class=\"list_image\">\\n\\t\\t\\t\\t\\t\\t\\t\\t\\t\\t\\t\\t<img src=\"https://mars.nasa.gov/system/news_items/list_view_images/8509_PIA23461-226.jpg\">\\n\\t\\t\\t\\t\\t\\t\\t\\t\\t\\t\\t </div>\\n\\t\\t\\t\\t\\t\\t\\t\\t\\t\\t  </div>\\n\\t\\t\\t\\t\\t\\t\\t\\t\\t\\t  <div class=\"col-md-8\">\\n\\t\\t\\t\\t\\t\\t\\t\\t\\t\\t  \\t<div class=\"list_text\">\\n\\t\\t\\t\\t\\t\\t\\t\\t\\t\\t\\t <div class=\"list_date\">February 21, 2022</div>\\n\\t\\t\\t\\t\\t\\t\\t\\t\\t\\t\\t <div class=\"content_title\">NASA\\'s Mars 2020 Comes Full Circle</div>\\n\\t\\t\\t\\t\\t\\t\\t\\t\\t\\t\\t <div class=\"article_teaser_body\">Aiming to pinpoint the Martian vehicle\\'s center of gravity, engineers took NASA\\'s 2,300-pound Mars 2020 rover for a spin in the clean room at JPL. </div>\\n\\t\\t\\t\\t\\t\\t\\t\\t\\t\\t\\t </div>\\n\\t\\t\\t\\t\\t\\t\\t\\t\\t\\t  </div>\\n\\t\\t\\t\\t\\t\\t\\t\\t\\t   </div>\\n\\t\\t\\t\\t\\t\\t\\t\\t\\t</div>\\n\\t\\t\\t\\t\\t\\t\\n\\t\\t\\t\\t\\t\\t\\t\\t<div class=\"col-md-12\">\\n\\t\\t\\t\\t\\t\\t\\t\\t\\t   <hr>\\n\\t\\t\\t\\t\\t\\t\\t\\t\\t   <div class=\"row\">\\n\\t\\t\\t\\t\\t\\t\\t\\t\\t\\t  <div class=\"col-md-4\">\\n\\t\\t\\t\\t\\t\\t\\t\\t\\t\\t\\t <div class=\"list_image\">\\n\\t\\t\\t\\t\\t\\t\\t\\t\\t\\t\\t\\t<img src=\"https://mars.nasa.gov/system/news_items/list_view_images/8631_PIA23624_hutton-selfie-320x240.jpg\">\\n\\t\\t\\t\\t\\t\\t\\t\\t\\t\\t\\t </div>\\n\\t\\t\\t\\t\\t\\t\\t\\t\\t\\t  </div>\\n\\t\\t\\t\\t\\t\\t\\t\\t\\t\\t  <div class=\"col-md-8\">\\n\\t\\t\\t\\t\\t\\t\\t\\t\\t\\t  \\t<div class=\"list_text\">\\n\\t\\t\\t\\t\\t\\t\\t\\t\\t\\t\\t <div class=\"list_date\">February 20, 2022</div>\\n\\t\\t\\t\\t\\t\\t\\t\\t\\t\\t\\t <div class=\"content_title\">NASA\\'s Curiosity Mars Rover Takes a New Selfie Before Record Climb</div>\\n\\t\\t\\t\\t\\t\\t\\t\\t\\t\\t\\t <div class=\"article_teaser_body\">Along with capturing an image before its steepest ascent ever, the robotic explorer filmed its \"selfie stick,\" or robotic arm, in action.</div>\\n\\t\\t\\t\\t\\t\\t\\t\\t\\t\\t\\t </div>\\n\\t\\t\\t\\t\\t\\t\\t\\t\\t\\t  </div>\\n\\t\\t\\t\\t\\t\\t\\t\\t\\t   </div>\\n\\t\\t\\t\\t\\t\\t\\t\\t\\t</div>\\n\\t\\t\\t\\t\\t\\t\\n\\t\\t\\t\\t\\t\\t\\t\\t<div class=\"col-md-12\">\\n\\t\\t\\t\\t\\t\\t\\t\\t\\t   <hr>\\n\\t\\t\\t\\t\\t\\t\\t\\t\\t   <div class=\"row\">\\n\\t\\t\\t\\t\\t\\t\\t\\t\\t\\t  <div class=\"col-md-4\">\\n\\t\\t\\t\\t\\t\\t\\t\\t\\t\\t\\t <div class=\"list_image\">\\n\\t\\t\\t\\t\\t\\t\\t\\t\\t\\t\\t\\t<img src=\"https://mars.nasa.gov/system/news_items/list_view_images/8724_launchscreen-320x240.jpg\">\\n\\t\\t\\t\\t\\t\\t\\t\\t\\t\\t\\t </div>\\n\\t\\t\\t\\t\\t\\t\\t\\t\\t\\t  </div>\\n\\t\\t\\t\\t\\t\\t\\t\\t\\t\\t  <div class=\"col-md-8\">\\n\\t\\t\\t\\t\\t\\t\\t\\t\\t\\t  \\t<div class=\"list_text\">\\n\\t\\t\\t\\t\\t\\t\\t\\t\\t\\t\\t <div class=\"list_date\">February 19, 2022</div>\\n\\t\\t\\t\\t\\t\\t\\t\\t\\t\\t\\t <div class=\"content_title\">NASA, ULA Launch Mars 2020 Perseverance Rover Mission to Red Planet</div>\\n\\t\\t\\t\\t\\t\\t\\t\\t\\t\\t\\t <div class=\"article_teaser_body\">The agency\\'s Mars 2020 mission is on its way. It will land at Jezero Crater in about seven months, on Feb. 18, 2021. </div>\\n\\t\\t\\t\\t\\t\\t\\t\\t\\t\\t\\t </div>\\n\\t\\t\\t\\t\\t\\t\\t\\t\\t\\t  </div>\\n\\t\\t\\t\\t\\t\\t\\t\\t\\t   </div>\\n\\t\\t\\t\\t\\t\\t\\t\\t\\t</div>\\n\\t\\t\\t\\t\\t\\t\\n\\t\\t\\t\\t\\t\\t\\t\\t<div class=\"col-md-12\">\\n\\t\\t\\t\\t\\t\\t\\t\\t\\t   <hr>\\n\\t\\t\\t\\t\\t\\t\\t\\t\\t   <div class=\"row\">\\n\\t\\t\\t\\t\\t\\t\\t\\t\\t\\t  <div class=\"col-md-4\">\\n\\t\\t\\t\\t\\t\\t\\t\\t\\t\\t\\t <div class=\"list_image\">\\n\\t\\t\\t\\t\\t\\t\\t\\t\\t\\t\\t\\t<img src=\"https://mars.nasa.gov/system/news_items/list_view_images/8575_PIA23519-SAF-unannot-320x240.jpg\">\\n\\t\\t\\t\\t\\t\\t\\t\\t\\t\\t\\t </div>\\n\\t\\t\\t\\t\\t\\t\\t\\t\\t\\t  </div>\\n\\t\\t\\t\\t\\t\\t\\t\\t\\t\\t  <div class=\"col-md-8\">\\n\\t\\t\\t\\t\\t\\t\\t\\t\\t\\t  \\t<div class=\"list_text\">\\n\\t\\t\\t\\t\\t\\t\\t\\t\\t\\t\\t <div class=\"list_date\">February 10, 2022</div>\\n\\t\\t\\t\\t\\t\\t\\t\\t\\t\\t\\t <div class=\"content_title\">Space History Is Made in This NASA Robot Factory</div>\\n\\t\\t\\t\\t\\t\\t\\t\\t\\t\\t\\t <div class=\"article_teaser_body\">From rockets to rovers, JPL\\'s Spacecraft Assembly Facility has been at the center of robotic spaceflight. Here\\'s a closer look at what makes it so special.</div>\\n\\t\\t\\t\\t\\t\\t\\t\\t\\t\\t\\t </div>\\n\\t\\t\\t\\t\\t\\t\\t\\t\\t\\t  </div>\\n\\t\\t\\t\\t\\t\\t\\t\\t\\t   </div>\\n\\t\\t\\t\\t\\t\\t\\t\\t\\t</div>\\n\\t\\t\\t\\t\\t\\t\\n\\t\\t\\t\\t\\t\\t\\t\\t<div class=\"col-md-12\">\\n\\t\\t\\t\\t\\t\\t\\t\\t\\t   <hr>\\n\\t\\t\\t\\t\\t\\t\\t\\t\\t   <div class=\"row\">\\n\\t\\t\\t\\t\\t\\t\\t\\t\\t\\t  <div class=\"col-md-4\">\\n\\t\\t\\t\\t\\t\\t\\t\\t\\t\\t\\t <div class=\"list_image\">\\n\\t\\t\\t\\t\\t\\t\\t\\t\\t\\t\\t\\t<img src=\"https://mars.nasa.gov/system/news_items/list_view_images/8568_PIA23515_annotated-globe-320x240.gif\">\\n\\t\\t\\t\\t\\t\\t\\t\\t\\t\\t\\t </div>\\n\\t\\t\\t\\t\\t\\t\\t\\t\\t\\t  </div>\\n\\t\\t\\t\\t\\t\\t\\t\\t\\t\\t  <div class=\"col-md-8\">\\n\\t\\t\\t\\t\\t\\t\\t\\t\\t\\t  \\t<div class=\"list_text\">\\n\\t\\t\\t\\t\\t\\t\\t\\t\\t\\t\\t <div class=\"list_date\">February 9, 2022</div>\\n\\t\\t\\t\\t\\t\\t\\t\\t\\t\\t\\t <div class=\"content_title\">NASA\\'s Treasure Map for Water Ice on Mars</div>\\n\\t\\t\\t\\t\\t\\t\\t\\t\\t\\t\\t <div class=\"article_teaser_body\">A new study identifies frozen water just below the Martian surface, where astronauts could easily dig it up.</div>\\n\\t\\t\\t\\t\\t\\t\\t\\t\\t\\t\\t </div>\\n\\t\\t\\t\\t\\t\\t\\t\\t\\t\\t  </div>\\n\\t\\t\\t\\t\\t\\t\\t\\t\\t   </div>\\n\\t\\t\\t\\t\\t\\t\\t\\t\\t</div>\\n\\t\\t\\t\\t\\t\\t\\n\\t\\t\\t\\t\\t\\t\\t\\t<div class=\"col-md-12\">\\n\\t\\t\\t\\t\\t\\t\\t\\t\\t   <hr>\\n\\t\\t\\t\\t\\t\\t\\t\\t\\t   <div class=\"row\">\\n\\t\\t\\t\\t\\t\\t\\t\\t\\t\\t  <div class=\"col-md-4\">\\n\\t\\t\\t\\t\\t\\t\\t\\t\\t\\t\\t <div class=\"list_image\">\\n\\t\\t\\t\\t\\t\\t\\t\\t\\t\\t\\t\\t<img src=\"https://mars.nasa.gov/system/news_items/list_view_images/8785_PIA24231-320.jpg\">\\n\\t\\t\\t\\t\\t\\t\\t\\t\\t\\t\\t </div>\\n\\t\\t\\t\\t\\t\\t\\t\\t\\t\\t  </div>\\n\\t\\t\\t\\t\\t\\t\\t\\t\\t\\t  <div class=\"col-md-8\">\\n\\t\\t\\t\\t\\t\\t\\t\\t\\t\\t  \\t<div class=\"list_text\">\\n\\t\\t\\t\\t\\t\\t\\t\\t\\t\\t\\t <div class=\"list_date\">February 9, 2022</div>\\n\\t\\t\\t\\t\\t\\t\\t\\t\\t\\t\\t <div class=\"content_title\">NASA\\'s Perseverance Rover Is Midway to Mars </div>\\n\\t\\t\\t\\t\\t\\t\\t\\t\\t\\t\\t <div class=\"article_teaser_body\">Sometimes half measures can be a good thing – especially on a journey this long. The agency\\'s latest rover only has about 146 million miles left to reach its destination.</div>\\n\\t\\t\\t\\t\\t\\t\\t\\t\\t\\t\\t </div>\\n\\t\\t\\t\\t\\t\\t\\t\\t\\t\\t  </div>\\n\\t\\t\\t\\t\\t\\t\\t\\t\\t   </div>\\n\\t\\t\\t\\t\\t\\t\\t\\t\\t</div>\\n\\t\\t\\t\\t\\t\\t</div>\\n         <hr class=\"container\" style=\"margin: 25px auto;width: 83%;\">\\n         <button id=\"more\" class=\"btn disable\" onclick=\"populateContent()\">More</button>\\n      </section>\\n      <section class=\"last_news\">\\n         <div class=\"container\">\\n            <div class=\"row\">\\n               <div class=\"col-12\">\\n                  <h2>You Might Also Like</h2>\\n               </div>\\n               <!--  <a class=\" prev\" href=\"#carouselExampleIndicators2\" role=\"button\" data-slide=\"prev\">\\n                  <i class=\"fas fa-angle-left\"></i>\\n                  </a>\\n                  <a class=\" next\" href=\"#carouselExampleIndicators2\" role=\"button\" data-slide=\"next\">\\n                  <i class=\"fas fa-angle-right\"></i>\\n                  </a> -->\\n               <div class=\"col-12\">\\n                  <div id=\"carouselExampleIndicators2\" class=\"carousel slide\" data-ride=\"carousel\">\\n                     <div class=\"carousel-inner\">\\n                        <div class=\"carousel-item active\">\\n                           <div class=\"row\">\\n                              <div class=\"col-md-4 mb-3\">\\n                                 <div class=\"card\">\\n                                    <img class=\"img-fluid\" alt=\"100%x280\" src=\"https://mars.nasa.gov/system/news_items/main_images/8716_PIA23499-16.jpg\">\\n                                    <div class=\"card-body\">\\n                                       <p class=\"card-text\">NASA to Broadcast Mars 2020 Perseverance Launch, Prelaunch Activities</p>\\n                                    </div>\\n                                 </div>\\n                              </div>\\n                              <div class=\"col-md-4 mb-3\">\\n                                 <div class=\"card\">\\n                                    <img class=\"img-fluid\" alt=\"100%x280\" src=\"https://mars.nasa.gov/system/news_items/main_images/8716_PIA23499-16.jpg\">\\n                                    <div class=\"card-body\">\\n                                       <p class=\"card-text\">The Launch Is Approaching for NASA\\'s Next Mars Rover, Perseverance</p>\\n                                    </div>\\n                                 </div>\\n                              </div>\\n                              <div class=\"col-md-4 mb-3\">\\n                                 <div class=\"card\">\\n                                    <img class=\"img-fluid\" alt=\"100%x280\" src=\"https://mars.nasa.gov/system/news_items/main_images/8692_PIA23920-web.jpg\">\\n                                    <div class=\"card-body\">\\n                                       <p class=\"card-text\">NASA to Hold Mars 2020 Perseverance Rover Launch Briefing</p>\\n                                    </div>\\n                                 </div>\\n                              </div>\\n                           </div>\\n                        </div>\\n                        <div class=\"carousel-item\">\\n                           <div class=\"row\">\\n                              <div class=\"col-md-4 mb-3\">\\n                                 <div class=\"card\">\\n                                    <img class=\"img-fluid\" alt=\"100%x280\" src=\"https://images.unsplash.com/photo-1532771098148-525cefe10c23?ixlib=rb-0.3.5&amp;q=80&amp;fm=jpg&amp;crop=entropy&amp;cs=tinysrgb&amp;w=1080&amp;fit=max&amp;ixid=eyJhcHBfaWQiOjMyMDc0fQ&amp;s=3f317c1f7a16116dec454fbc267dd8e4\">\\n                                    <div class=\"card-body\">\\n                                       <p class=\"card-text\">With supporting text below as a natural lead-in to additional content.</p>\\n                                    </div>\\n                                 </div>\\n                              </div>\\n                              <div class=\"col-md-4 mb-3\">\\n                                 <div class=\"card\">\\n                                    <img class=\"img-fluid\" alt=\"100%x280\" src=\"https://images.unsplash.com/photo-1532715088550-62f09305f765?ixlib=rb-0.3.5&amp;q=80&amp;fm=jpg&amp;crop=entropy&amp;cs=tinysrgb&amp;w=1080&amp;fit=max&amp;ixid=eyJhcHBfaWQiOjMyMDc0fQ&amp;s=ebadb044b374504ef8e81bdec4d0e840\">\\n                                    <div class=\"card-body\">\\n                                       <p class=\"card-text\">With supporting text below as a natural lead-in to additional content.</p>\\n                                    </div>\\n                                 </div>\\n                              </div>\\n                              <div class=\"col-md-4 mb-3\">\\n                                 <div class=\"card\">\\n                                    <img class=\"img-fluid\" alt=\"100%x280\" src=\"https://images.unsplash.com/photo-1506197603052-3cc9c3a201bd?ixlib=rb-0.3.5&amp;q=80&amp;fm=jpg&amp;crop=entropy&amp;cs=tinysrgb&amp;w=1080&amp;fit=max&amp;ixid=eyJhcHBfaWQiOjMyMDc0fQ&amp;s=0754ab085804ae8a3b562548e6b4aa2e\">\\n                                    <div class=\"card-body\">\\n                                       <p class=\"card-text\">With supporting text below as a natural lead-in to additional content.</p>\\n                                    </div>\\n                                 </div>\\n                              </div>\\n                           </div>\\n                        </div>\\n                        <div class=\"carousel-item\">\\n                           <div class=\"row\">\\n                              <div class=\"col-md-4 mb-3\">\\n                                 <div class=\"card\">\\n                                    <img class=\"img-fluid\" alt=\"100%x280\" src=\"https://images.unsplash.com/photo-1507525428034-b723cf961d3e?ixlib=rb-0.3.5&amp;q=80&amp;fm=jpg&amp;crop=entropy&amp;cs=tinysrgb&amp;w=1080&amp;fit=max&amp;ixid=eyJhcHBfaWQiOjMyMDc0fQ&amp;s=ee8417f0ea2a50d53a12665820b54e23\">\\n                                    <div class=\"card-body\">\\n                                       <p class=\"card-text\">With supporting text below as a natural lead-in to additional content.</p>\\n                                    </div>\\n                                 </div>\\n                              </div>\\n                              <div class=\"col-md-4 mb-3\">\\n                                 <div class=\"card\">\\n                                    <img class=\"img-fluid\" alt=\"100%x280\" src=\"https://images.unsplash.com/photo-1532777946373-b6783242f211?ixlib=rb-0.3.5&amp;q=80&amp;fm=jpg&amp;crop=entropy&amp;cs=tinysrgb&amp;w=1080&amp;fit=max&amp;ixid=eyJhcHBfaWQiOjMyMDc0fQ&amp;s=8ac55cf3a68785643998730839663129\">\\n                                    <div class=\"card-body\">\\n                                       <p class=\"card-text\">With supporting text below as a natural lead-in to additional content.</p>\\n                                    </div>\\n                                 </div>\\n                              </div>\\n                              <div class=\"col-md-4 mb-3\">\\n                                 <div class=\"card\">\\n                                    <img class=\"img-fluid\" alt=\"100%x280\" src=\"https://images.unsplash.com/photo-1532763303805-529d595877c5?ixlib=rb-0.3.5&amp;q=80&amp;fm=jpg&amp;crop=entropy&amp;cs=tinysrgb&amp;w=1080&amp;fit=max&amp;ixid=eyJhcHBfaWQiOjMyMDc0fQ&amp;s=5ee4fd5d19b40f93eadb21871757eda6\">\\n                                    <div class=\"card-body\">\\n                                       <p class=\"card-text\">With supporting text below as a natural lead-in to additional content.</p>\\n                                    </div>\\n                                 </div>\\n                              </div>\\n                           </div>\\n                        </div>\\n                     </div>\\n                  </div>\\n               </div>\\n            </div>\\n         </div>\\n      </section>\\n      <section class=\"footer\">\\n         <div class=\"container\">\\n            <div class=\"col-md-12\">\\n               <div class=\"row\">\\n                  <div class=\"col-md-3\">\\n                     <h5>The Red Planet</h5>\\n                     <ul>\\n                        <li>Dashboard</li>\\n                        <li>Science Goals</li>\\n                        <li>The Planet</li>\\n                     </ul>\\n                  </div>\\n                  <div class=\"col-md-3\">\\n                     <h5>The Program</h5>\\n                     <ul>\\n                        <li>Mission Statement</li>\\n                        <li>About the Program</li>\\n                        <li>Organization Why Mars?</li>\\n                     </ul>\\n                  </div>\\n                  <div class=\"col-md-3\">\\n                     <h5>Multimedia</h5>\\n                     <ul>\\n                        <li>Images</li>\\n                        <li>Videos</li>\\n                        <li>More Resources</li>\\n                     </ul>\\n                  </div>\\n                  <div class=\"col-md-3\">\\n                     <h5>Missions</h5>\\n                     <ul>\\n                        <li>Past</li>\\n                        <li>Present</li>\\n                        <li>Future</li>\\n                     </ul>\\n                  </div>\\n               </div>\\n            </div>\\n         </div>\\n      </section>\\n      <script type=\"text/javascript\" src=\"https://code.jquery.com/jquery-1.12.4.min.js\"></script>\\n      <script src=\"https://cdn.jsdelivr.net/npm/@popperjs/core@2.5.4/dist/umd/popper.min.js\"></script>\\n      <script src=\"https://cdn.jsdelivr.net/npm/bootstrap@5.0.0-beta1/dist/js/bootstrap.min.js\"></script>\\n      <script src=\"js/app.js\"></script>\\n   \\n</div></div></body></html>'"
      ]
     },
     "execution_count": 6,
     "metadata": {},
     "output_type": "execute_result"
    }
   ],
   "source": [
    "html = browser.html\n",
    "html"
   ]
  },
  {
   "cell_type": "code",
   "execution_count": 7,
   "id": "1774e5f6",
   "metadata": {},
   "outputs": [],
   "source": [
    "website_data = soup(html, \"html.parser\")"
   ]
  },
  {
   "cell_type": "code",
   "execution_count": 8,
   "id": "d73a7ff5",
   "metadata": {},
   "outputs": [
    {
     "data": {
      "text/plain": [
       "<div class=\"list_text\">\n",
       "<div class=\"list_date\">March 9, 2022</div>\n",
       "<div class=\"content_title\">Two Rovers to Roll on Mars Again: Curiosity and Mars 2020</div>\n",
       "<div class=\"article_teaser_body\">They look like twins. But under the hood, the rover currently exploring the Red Planet and the one launching there this summer have distinct science tools and roles to play.</div>\n",
       "</div>"
      ]
     },
     "execution_count": 8,
     "metadata": {},
     "output_type": "execute_result"
    }
   ],
   "source": [
    "element_a = website_data.select_one(\"div.list_text\")\n",
    "element_a"
   ]
  },
  {
   "cell_type": "code",
   "execution_count": 9,
   "id": "a67703c5",
   "metadata": {},
   "outputs": [
    {
     "data": {
      "text/plain": [
       "'Two Rovers to Roll on Mars Again: Curiosity and Mars 2020'"
      ]
     },
     "execution_count": 9,
     "metadata": {},
     "output_type": "execute_result"
    }
   ],
   "source": [
    "news_title = element_a.find(\"div\", class_ = \"content_title\").get_text()\n",
    "news_title"
   ]
  },
  {
   "cell_type": "code",
   "execution_count": 10,
   "id": "ad42f73a",
   "metadata": {},
   "outputs": [
    {
     "data": {
      "text/plain": [
       "'They look like twins. But under the hood, the rover currently exploring the Red Planet and the one launching there this summer have distinct science tools and roles to play.'"
      ]
     },
     "execution_count": 10,
     "metadata": {},
     "output_type": "execute_result"
    }
   ],
   "source": [
    "news_p = element_a.find(\"div\", class_ = \"article_teaser_body\").get_text()\n",
    "news_p"
   ]
  },
  {
   "cell_type": "code",
   "execution_count": 11,
   "id": "0dbaaed7",
   "metadata": {},
   "outputs": [],
   "source": [
    "url2 = \"https://spaceimages-mars.com/\""
   ]
  },
  {
   "cell_type": "code",
   "execution_count": 12,
   "id": "7f598813",
   "metadata": {},
   "outputs": [],
   "source": [
    "browser.visit(url2)"
   ]
  },
  {
   "cell_type": "code",
   "execution_count": 13,
   "id": "ae715987",
   "metadata": {},
   "outputs": [
    {
     "data": {
      "text/plain": [
       "'<html class=\"\"><head>\\n      <meta charset=\"utf-8\">\\n      <meta name=\"viewport\" content=\"width=device-width, initial-scale=1\">\\n      <link rel=\"stylesheet\" href=\"https://maxcdn.bootstrapcdn.com/bootstrap/4.0.0/css/bootstrap.min.css\">\\n      <!-- <link rel=\"stylesheet\" type=\"text/css\" href=\"css/font.css\"> -->\\n      <link rel=\"stylesheet\" type=\"text/css\" href=\"css/app.css\">\\n      <link rel=\"stylesheet\" type=\"text/css\" href=\"https://stackpath.bootstrapcdn.com/font-awesome/4.7.0/css/font-awesome.min.css\">\\n      <title>Space Image</title>\\n   <style type=\"text/css\">.fancybox-margin{margin-right:17px;}</style></head>\\n   <body>\\n      <div class=\"header\">\\n         <nav class=\"navbar navbar-expand-lg \">\\n            <a class=\"navbar-brand\" href=\"#\"><img id=\"logo\" src=\"image/nasa.png\"><span class=\"logo\">Jet Propulsion Laboratory</span>\\n            <span class=\"logo1\">California Institute of Technology</span></a>\\n            <button class=\"navbar-toggler\" type=\"button\" data-toggle=\"collapse\" data-target=\"#navbarNav\" aria-controls=\"navbarNav\" aria-expanded=\"false\" aria-label=\"Toggle navigation\">\\n            <span class=\"navbar-toggler-icon\"></span>\\n            </button>\\n            <div class=\"collapse navbar-collapse justify-content-end\" id=\"navbarNav\">\\n               <ul class=\"navbar-nav\">\\n                  <li class=\"nav-item active\">\\n                     <a class=\"nav-link\" href=\"#\"><i class=\"fa fa-bars\" aria-hidden=\"true\"></i> &nbsp;&nbsp;MENU &nbsp;&nbsp;<i class=\"fa fa-search\" aria-hidden=\"true\"></i></a>\\n                  </li>\\n               </ul>\\n            </div>\\n         </nav>\\n         <div class=\"floating_text_area\">\\n            <h2 class=\"brand_title\">FEATURED IMAGE</h2>\\n            <h1 class=\"media_feature_title\">Dusty Space Cloud</h1>\\n            <br>\\n           <a target=\"_blank\" class=\"showimg fancybox-thumbs\" href=\"image/featured/mars3.jpg\"> <button class=\"btn btn-outline-light\"> FULL IMAGE</button></a>\\n         </div>\\n      <img class=\"headerimage fade-in\" src=\"image/featured/mars3.jpg\"></div>\\n      <div class=\"search sticky\">\\n         <div class=\"col-md-12\">\\n            <div class=\"row\">\\n               <div class=\"col-md-6\">\\n                  <input type=\"text\" name=\"Search\" placeholder=\"Search\">\\n               </div>\\n               <div class=\"col-md-6\">\\n                  <select class=\"form-select\" id=\"options\" aria-label=\"Default select example\">\\n                     <option selected=\"\" onchange=\"0\">Mars</option>\\n                     <!-- <option data-filter=\"sun\" class=\"button\">Mars</option> -->\\n                     <option data-filter=\"Sun\" class=\"button\">Sun</option>\\n                     <option data-filter=\"earth\" class=\"button\">Earth</option>\\n                     <option data-filter=\"ida\" class=\"button\">Ida</option>\\n                     <option data-filter=\"jupiter\" class=\"button\">Jupiter</option>\\n                     <option data-filter=\"venus\" class=\"button\">Venus</option>\\n                  </select>\\n               </div>\\n            </div>\\n         </div>\\n      </div>\\n      <div class=\"container mt-5\">\\n         <div class=\"col-md-12\">\\n            <div class=\"row\">\\n               <div class=\"col-md-6\">\\n                  <h1>Images</h1>\\n               </div>\\n               <div class=\"col-md-6\" id=\"icon\">\\n                  <div class=\"icon2\"></div>\\n                  <div class=\"icon1\"></div>\\n               </div>\\n            </div>\\n         </div>\\n         <!-- first div -->\\n         <div id=\"filter\" class=\"div1\">\\n            <div class=\"thmbgroup\"><a class=\"fancybox-thumbs\" data-fancybox-group=\"thumb\" href=\"image/mars/Icaria Fossae7.jpg\"><div class=\"thmb\"><img class=\"thumbimg\" src=\"image/mars/Icaria Fossae7.jpg\" alt=\"\"><p class=\"thumbcontent\">January 1, 2020<br>Icaria Fossae7</p></div></a><a class=\"fancybox-thumbs\" data-fancybox-group=\"thumb\" href=\"image/mars/Proctor Crater Dunes 7.jpg\"><div class=\"thmb\"><img class=\"thumbimg\" src=\"image/mars/Proctor Crater Dunes 7.jpg\" alt=\"\"><p class=\"thumbcontent\">December 31, 2020<br>Proctor Crater Dunes</p></div></a><a class=\"fancybox-thumbs\" data-fancybox-group=\"thumb\" href=\"image/mars/Icaria Fossae7.jpg\"><div class=\"thmb\"><img class=\"thumbimg\" src=\"image/mars/Icaria Fossae7.jpg\" alt=\"\"><p class=\"thumbcontent\">December 31, 2020<br>Icaria Fossae</p></div></a><a class=\"fancybox-thumbs\" data-fancybox-group=\"thumb\" href=\"image/mars/Proctor Crater Dunes 7.jpg\"><div class=\"thmb\"><img class=\"thumbimg\" src=\"image/mars/Proctor Crater Dunes 7.jpg\" alt=\"\"><p class=\"thumbcontent\">December 29, 2020<br>Proctor Crater Dunes</p></div></a><a class=\"fancybox-thumbs\" data-fancybox-group=\"thumb\" href=\"image/mars/Proctor Crater Dunes 7.jpg\"><div class=\"thmb\"><img class=\"thumbimg\" src=\"image/mars/Proctor Crater Dunes 7.jpg\" alt=\"\"><p class=\"thumbcontent\">December 28, 2020<br>roctor Crater Dunes</p></div></a><a class=\"fancybox-thumbs\" data-fancybox-group=\"thumb\" href=\"image/mars/Icaria Fossae7.jpg\"><div class=\"thmb\"><img class=\"thumbimg\" src=\"image/mars/Icaria Fossae7.jpg\" alt=\"\"><p class=\"thumbcontent\">December 22, 2020<br>Icaria Fossae</p></div></a><a class=\"fancybox-thumbs\" data-fancybox-group=\"thumb\" href=\"image/mars/Icaria Fossae.jpg\"><div class=\"thmb\"><img class=\"thumbimg\" src=\"image/mars/Icaria Fossae.jpg\" alt=\"\"><p class=\"thumbcontent\">December 21, 2020<br>Icaria Fossae</p></div></a><a class=\"fancybox-thumbs\" data-fancybox-group=\"thumb\" href=\"image/mars/Ariadnes Colles4.jpg\"><div class=\"thmb\"><img class=\"thumbimg\" src=\"image/mars/Ariadnes Colles4.jpg\" alt=\"\"><p class=\"thumbcontent\">December 18, 2020<br>Ariadnes Colles</p></div></a><a class=\"fancybox-thumbs\" data-fancybox-group=\"thumb\" href=\"image/mars/Niger Vallis.jpg\"><div class=\"thmb\"><img class=\"thumbimg\" src=\"image/mars/Niger Vallis.jpg\" alt=\"\"><p class=\"thumbcontent\">December 17, 2020<br>Niger Vallis</p></div></a><a class=\"fancybox-thumbs\" data-fancybox-group=\"thumb\" href=\"image/mars/Proctor Crater Dunes.jpg\"><div class=\"thmb\"><img class=\"thumbimg\" src=\"image/mars/Proctor Crater Dunes.jpg\" alt=\"\"><p class=\"thumbcontent\">December 16, 2020<br>Proctor Crater Dunes</p></div></a><a class=\"fancybox-thumbs\" data-fancybox-group=\"thumb\" href=\"image/mars/Niger Vallis.jpg\"><div class=\"thmb\"><img class=\"thumbimg\" src=\"image/mars/Niger Vallis.jpg\" alt=\"\"><p class=\"thumbcontent\">December 15, 2020<br>Niger Vallis</p></div></a><a class=\"fancybox-thumbs\" data-fancybox-group=\"thumb\" href=\"image/mars/Daedalia Planum.jpg\"><div class=\"thmb\"><img class=\"thumbimg\" src=\"image/mars/Daedalia Planum.jpg\" alt=\"\"><p class=\"thumbcontent\">December 11, 2020<br>Daedalia Planum</p></div></a><a class=\"fancybox-thumbs\" data-fancybox-group=\"thumb\" href=\"image/mars/Sirenum Fossae.jpg\"><div class=\"thmb\"><img class=\"thumbimg\" src=\"image/mars/Sirenum Fossae.jpg\" alt=\"\"><p class=\"thumbcontent\">November,11, 2020<br>Sirenum Fossae</p></div></a><a class=\"fancybox-thumbs\" data-fancybox-group=\"thumb\" href=\"image/mars/Ariadnes Colles4.jpg\"><div class=\"thmb\"><img class=\"thumbimg\" src=\"image/mars/Ariadnes Colles4.jpg\" alt=\"\"><p class=\"thumbcontent\">November,13, 2020<br>Ariadnes Colles</p></div></a><a class=\"fancybox-thumbs\" data-fancybox-group=\"thumb\" href=\"image/mars/South Polar Cap.jpg\"><div class=\"thmb\"><img class=\"thumbimg\" src=\"image/mars/South Polar Cap.jpg\" alt=\"\"><p class=\"thumbcontent\">November,14, 2020<br>South Polar Cap</p></div></a><a class=\"fancybox-thumbs\" data-fancybox-group=\"thumb\" href=\"image/mars/Daedalia Planum.jpg\"><div class=\"thmb\"><img class=\"thumbimg\" src=\"image/mars/Daedalia Planum.jpg\" alt=\"\"><p class=\"thumbcontent\">November,17, 2020<br>Daedalia Planum</p></div></a><a class=\"fancybox-thumbs\" data-fancybox-group=\"thumb\" href=\"image/mars/Ariadnes Colles3.jpg\"><div class=\"thmb\"><img class=\"thumbimg\" src=\"image/mars/Ariadnes Colles3.jpg\" alt=\"\"><p class=\"thumbcontent\">November,11, 2020<br>Ariadnes Colles</p></div></a><a class=\"fancybox-thumbs\" data-fancybox-group=\"thumb\" href=\"image/mars/Atlantis Chaos.jpg\"><div class=\"thmb\"><img class=\"thumbimg\" src=\"image/mars/Atlantis Chaos.jpg\" alt=\"\"><p class=\"thumbcontent\">November,09, 2020<br>Atlantis Chaos</p></div></a><a class=\"fancybox-thumbs\" data-fancybox-group=\"thumb\" href=\"image/mars/Daedalia Planum.jpg\"><div class=\"thmb\"><img class=\"thumbimg\" src=\"image/mars/Daedalia Planum.jpg\" alt=\"\"><p class=\"thumbcontent\">January 1, 2020<br>Daedalia Planum</p></div></a><a class=\"fancybox-thumbs\" data-fancybox-group=\"thumb\" href=\"image/mars/Icaria Fossae.jpg\"><div class=\"thmb\"><img class=\"thumbimg\" src=\"image/mars/Icaria Fossae.jpg\" alt=\"\"><p class=\"thumbcontent\">January 1, 2020<br>Icaria Fossae</p></div></a><a class=\"fancybox-thumbs\" data-fancybox-group=\"thumb\" href=\"image/mars/Niger Vallis.jpg\"><div class=\"thmb\"><img class=\"thumbimg\" src=\"image/mars/Niger Vallis.jpg\" alt=\"\"><p class=\"thumbcontent\">January 1, 2020<br>Niger Vallis</p></div></a><a class=\"fancybox-thumbs\" data-fancybox-group=\"thumb\" href=\"image/mars/Proctor Crater Dunes.jpg\"><div class=\"thmb\"><img class=\"thumbimg\" src=\"image/mars/Proctor Crater Dunes.jpg\" alt=\"\"><p class=\"thumbcontent\">January 1, 2020<br>Proctor Crater Dunes</p></div></a><a class=\"fancybox-thumbs\" data-fancybox-group=\"thumb\" href=\"image/mars/Reull Vallis.jpg\"><div class=\"thmb\"><img class=\"thumbimg\" src=\"image/mars/Reull Vallis.jpg\" alt=\"\"><p class=\"thumbcontent\">January 1, 2020<br>Reull Vallis</p></div></a><a class=\"fancybox-thumbs\" data-fancybox-group=\"thumb\" href=\"image/mars/Ariadnes Colles3.jpg\"><div class=\"thmb\"><img class=\"thumbimg\" src=\"image/mars/Ariadnes Colles3.jpg\" alt=\"\"><p class=\"thumbcontent\">January 1, 2020<br>Ariadnes Colles</p></div></a><a class=\"fancybox-thumbs\" data-fancybox-group=\"thumb\" href=\"image/mars/Sirenum Fossae.jpg\"><div class=\"thmb\"><img class=\"thumbimg\" src=\"image/mars/Sirenum Fossae.jpg\" alt=\"\"><p class=\"thumbcontent\">January 1, 2020<br>Sirenum Fossae</p></div></a><a class=\"fancybox-thumbs\" data-fancybox-group=\"thumb\" href=\"image/mars/South Polar Cap.jpg\"><div class=\"thmb\"><img class=\"thumbimg\" src=\"image/mars/South Polar Cap.jpg\" alt=\"\"><p class=\"thumbcontent\">January 1, 2020<br>South Polar Cap</p></div></a><a class=\"fancybox-thumbs\" data-fancybox-group=\"thumb\" href=\"image/mars/Niger Vallis.jpg\"><div class=\"thmb\"><img class=\"thumbimg\" src=\"image/mars/Niger Vallis.jpg\" alt=\"\"><p class=\"thumbcontent\">January 1, 2020<br>Niger Vallis</p></div></a><a class=\"fancybox-thumbs\" data-fancybox-group=\"thumb\" href=\"image/mars/Daedalia Planum.jpg\"><div class=\"thmb\"><img class=\"thumbimg\" src=\"image/mars/Daedalia Planum.jpg\" alt=\"\"><p class=\"thumbcontent\">January 1, 2020<br>Daedalia Planum</p></div></a><a class=\"fancybox-thumbs\" data-fancybox-group=\"thumb\" href=\"image/mars/Icaria Fossae.jpg\"><div class=\"thmb\"><img class=\"thumbimg\" src=\"image/mars/Icaria Fossae.jpg\" alt=\"\"><p class=\"thumbcontent\">January 1, 2020<br>Icaria Fossae</p></div></a><a class=\"fancybox-thumbs\" data-fancybox-group=\"thumb\" href=\"image/mars/Ariadnes Colles4.jpg\"><div class=\"thmb\"><img class=\"thumbimg\" src=\"image/mars/Ariadnes Colles4.jpg\" alt=\"\"><p class=\"thumbcontent\">January 1, 2020<br>Ariadnes Colles</p></div></a><a class=\"fancybox-thumbs\" data-fancybox-group=\"thumb\" href=\"image/mars/South Polar Cap.jpg\"><div class=\"thmb\"><img class=\"thumbimg\" src=\"image/mars/South Polar Cap.jpg\" alt=\"\"><p class=\"thumbcontent\">January 1, 2020<br>South Polar Cap</p></div></a><a class=\"fancybox-thumbs\" data-fancybox-group=\"thumb\" href=\"image/mars/Daedalia Planum.jpg\"><div class=\"thmb\"><img class=\"thumbimg\" src=\"image/mars/Daedalia Planum.jpg\" alt=\"\"><p class=\"thumbcontent\">January 1, 2020<br>Daedalia Planum</p></div></a></div>\\n         </div>\\n         <!-- first div ends -->\\n         <!-- second div starts -->\\n         <div id=\"column\" class=\"col-md-12  grid-margin\">\\n            <ul class=\"post-list\">\\n               <li class=\"post-heading\"></li>\\n            </ul>\\n         </div>\\n         <!-- second div starts -->\\n      </div>\\n      <div class=\"first imgcontainer mt-3\">\\n         <div class=\"col-md-12\">\\n            <div class=\"row\">\\n               <div class=\"col-md-3\">\\n                  <img id=\"pic\" src=\"\">\\n               </div>\\n            </div>\\n         </div>\\n      </div>\\n      <!-- end -->\\n      <div class=\"module_gallery container\">\\n         <div class=\"col-md-12\">\\n            <div class=\"row\">\\n               <div class=\"col-md-6\">\\n                  <div class=\"card\">\\n                     <img class=\"card-img-top\" src=\"https://www.jpl.nasa.gov/assets/images/content/tmp/images/jpl_photojournal(3x1).jpg\" alt=\"Card image cap\">\\n                     <div class=\"card-body\">\\n                        <h5 class=\"card-title\">JPL Photojournal</h5>\\n                        <p class=\"card-text\">Access to the full library of publicly released images from various Solar System exploration programs</p>\\n                     </div>\\n                  </div>\\n               </div>\\n               <div class=\"col-md-6\">\\n                  <div class=\"card\">\\n                     <img class=\"card-img-top\" src=\"https://www.jpl.nasa.gov/assets/images/content/tmp/images/nasa_images(3x1).jpg\" alt=\"Card image cap\">\\n                     <div class=\"card-body\">\\n                        <h5 class=\"card-title\">Great images in NASA</h5>\\n                        <p class=\"card-text\">A selection of the best-known images from a half-century of exploration and discovery</p>\\n                     </div>\\n                  </div>\\n               </div>\\n            </div>\\n         </div>\\n      </div>\\n      <div class=\"multi_teaser\">\\n         <div class=\"container\">\\n            <h1>You Might Also Like</h1>\\n            <div class=\"col-md-12 mt-5\">\\n               <div class=\"row\">\\n                  <div class=\"col-md-4\">\\n                     <div class=\"card\">\\n                        <img class=\"card-img-top\" src=\"https://imagecache.jpl.nasa.gov/images/640x350/C1-PIA24304---CatScanMars-16-640x350.gif\" alt=\"Card image cap\">\\n                        <div class=\"card-body\">\\n                           <p class=\"card-text\">Access to the full library of publicly released images from various Solar System exploration programs</p>\\n                        </div>\\n                     </div>\\n                  </div>\\n                  <div class=\"col-md-4\">\\n                     <div class=\"card\">\\n                        <img class=\"card-img-top\" src=\"https://imagecache.jpl.nasa.gov/images/640x350/PIA23491-16-640x350.jpg\" alt=\"Card image cap\">\\n                        <div class=\"card-body\">\\n                           <p class=\"card-text\">Access to the full library of publicly released images from various Solar System exploration programs</p>\\n                        </div>\\n                     </div>\\n                  </div>\\n                  <div class=\"col-md-4\">\\n                     <div class=\"card\">\\n                        <img class=\"card-img-top\" src=\"https://imagecache.jpl.nasa.gov/images/640x350/C1-PIA23180-16-640x350.gif\" alt=\"Card image cap\">\\n                        <div class=\"card-body\">\\n                           <p class=\"card-text\">Access to the full library of publicly released images from various Solar System exploration programs</p>\\n                        </div>\\n                     </div>\\n                  </div>\\n               </div>\\n            </div>\\n         </div>\\n      </div>\\n      <div class=\"footer \">\\n         <div class=\"container\">\\n            <div class=\"col-md-12\">\\n               <div class=\"row\">\\n                  <div class=\"col-md-3\">\\n                     <h4>About JPL</h4>\\n                     <ul>\\n                        <li>About JPL</li>\\n                        <li>JPL Vision</li>\\n                        <li>Executive Council</li>\\n                        <li>History</li>\\n                     </ul>\\n                  </div>\\n                  <div class=\"col-md-3\">\\n                     <h4>Education</h4>\\n                     <ul>\\n                        <li>Intern</li>\\n                        <li>Learn</li>\\n                        <li>Teach</li>\\n                        <li>News</li>\\n                     </ul>\\n                  </div>\\n                  <div class=\"col-md-3\">\\n                     <h4>Our Sites</h4>\\n                     <ul>\\n                        <li>Asteroid Watch</li>\\n                        <li>Basics of Spaceflight</li>\\n                        <li>Cassini - Mission to Saturn</li>\\n                        <li>Climate Kids</li>\\n                     </ul>\\n                  </div>\\n                  <div class=\"col-md-3\">\\n                     <h4>Galleries</h4>\\n                     <ul>\\n                        <li>JPL Space Images</li>\\n                        <li>Videos</li>\\n                        <li>Infographics</li>\\n                        <li>Photojournal</li>\\n                     </ul>\\n                  </div>\\n               </div>\\n            </div>\\n         </div>\\n      </div>\\n<!--<div class=\"showFullimage\">\\n\\t<button class=\"btn btn-outline-light hideimage\" onclick=hideimage()> Close</button>\\n\\t<img class=\"fullimage fade-in\" src=\"\">\\n</div>-->\\n      <!-- <script src=\"js/jquery.easeScroll.js\"></script>  -->\\n      <script src=\"js/jquery-3.5.1.min.js\"></script>\\n      <!-- <script src=\"js/jquery-3.2.1.slim.min.js\"></script> -->\\n      <script src=\"js/demo.js\"></script>\\n      <!-- <script src=\"js/app.js\"></script> -->\\n      <script src=\"https://cdnjs.cloudflare.com/ajax/libs/popper.js/1.12.9/umd/popper.min.js\"></script>\\n      <script src=\"https://maxcdn.bootstrapcdn.com/bootstrap/4.0.0/js/bootstrap.min.js\"></script>\\n      <script type=\"text/javascript\" src=\"js/fancyBox/jquery.fancybox.pack.js?v=2.1.5\"></script>\\n      <link rel=\"stylesheet\" type=\"text/css\" href=\"js/fancyBox/jquery.fancybox.css?v=2.1.5\" media=\"screen\">\\n      <link rel=\"stylesheet\" type=\"text/css\" href=\"js/fancyBox/helpers/jquery.fancybox-thumbs.css?v=1.0.7\">\\n      <script type=\"text/javascript\" src=\"js/fancyBox/helpers/jquery.fancybox-thumbs.js?v=1.0.7\"></script>\\n   \\n</body></html>'"
      ]
     },
     "execution_count": 13,
     "metadata": {},
     "output_type": "execute_result"
    }
   ],
   "source": [
    "html2 = browser.html\n",
    "html2"
   ]
  },
  {
   "cell_type": "code",
   "execution_count": 14,
   "id": "a9e039e7",
   "metadata": {},
   "outputs": [],
   "source": [
    "website_data2 = soup(html2, \"html.parser\")"
   ]
  },
  {
   "cell_type": "code",
   "execution_count": 15,
   "id": "e25bebc3",
   "metadata": {},
   "outputs": [
    {
     "data": {
      "text/plain": [
       "<splinter.element_list.ElementList at 0x17d441d4490>"
      ]
     },
     "execution_count": 15,
     "metadata": {},
     "output_type": "execute_result"
    }
   ],
   "source": [
    "button = browser.find_by_tag(\"button\")\n",
    "button"
   ]
  },
  {
   "cell_type": "code",
   "execution_count": 16,
   "id": "95406ed1",
   "metadata": {},
   "outputs": [],
   "source": [
    "button[1].click()"
   ]
  },
  {
   "cell_type": "code",
   "execution_count": 17,
   "id": "833a761b",
   "metadata": {},
   "outputs": [],
   "source": [
    "full_image = browser.html"
   ]
  },
  {
   "cell_type": "code",
   "execution_count": 18,
   "id": "c9558200",
   "metadata": {},
   "outputs": [],
   "source": [
    "full_website_image = soup(full_image, \"html.parser\")"
   ]
  },
  {
   "cell_type": "code",
   "execution_count": 19,
   "id": "9268574b",
   "metadata": {},
   "outputs": [
    {
     "data": {
      "text/plain": [
       "<html class=\"fancybox-margin fancybox-lock\"><head>\n",
       "<meta charset=\"utf-8\"/>\n",
       "<meta content=\"width=device-width, initial-scale=1\" name=\"viewport\"/>\n",
       "<link href=\"https://maxcdn.bootstrapcdn.com/bootstrap/4.0.0/css/bootstrap.min.css\" rel=\"stylesheet\"/>\n",
       "<!-- <link rel=\"stylesheet\" type=\"text/css\" href=\"css/font.css\"> -->\n",
       "<link href=\"css/app.css\" rel=\"stylesheet\" type=\"text/css\"/>\n",
       "<link href=\"https://stackpath.bootstrapcdn.com/font-awesome/4.7.0/css/font-awesome.min.css\" rel=\"stylesheet\" type=\"text/css\"/>\n",
       "<title>Space Image</title>\n",
       "<style type=\"text/css\">.fancybox-margin{margin-right:17px;}</style></head>\n",
       "<body>\n",
       "<div class=\"header\">\n",
       "<nav class=\"navbar navbar-expand-lg\">\n",
       "<a class=\"navbar-brand\" href=\"#\"><img id=\"logo\" src=\"image/nasa.png\"/><span class=\"logo\">Jet Propulsion Laboratory</span>\n",
       "<span class=\"logo1\">California Institute of Technology</span></a>\n",
       "<button aria-controls=\"navbarNav\" aria-expanded=\"false\" aria-label=\"Toggle navigation\" class=\"navbar-toggler\" data-target=\"#navbarNav\" data-toggle=\"collapse\" type=\"button\">\n",
       "<span class=\"navbar-toggler-icon\"></span>\n",
       "</button>\n",
       "<div class=\"collapse navbar-collapse justify-content-end\" id=\"navbarNav\">\n",
       "<ul class=\"navbar-nav\">\n",
       "<li class=\"nav-item active\">\n",
       "<a class=\"nav-link\" href=\"#\"><i aria-hidden=\"true\" class=\"fa fa-bars\"></i>   MENU   <i aria-hidden=\"true\" class=\"fa fa-search\"></i></a>\n",
       "</li>\n",
       "</ul>\n",
       "</div>\n",
       "</nav>\n",
       "<div class=\"floating_text_area\">\n",
       "<h2 class=\"brand_title\">FEATURED IMAGE</h2>\n",
       "<h1 class=\"media_feature_title\">Dusty Space Cloud</h1>\n",
       "<br/>\n",
       "<a class=\"showimg fancybox-thumbs\" href=\"image/featured/mars3.jpg\" target=\"_blank\"> <button class=\"btn btn-outline-light\"> FULL IMAGE</button></a>\n",
       "</div>\n",
       "<img class=\"headerimage fade-in\" src=\"image/featured/mars3.jpg\"/></div>\n",
       "<div class=\"search sticky\">\n",
       "<div class=\"col-md-12\">\n",
       "<div class=\"row\">\n",
       "<div class=\"col-md-6\">\n",
       "<input name=\"Search\" placeholder=\"Search\" type=\"text\"/>\n",
       "</div>\n",
       "<div class=\"col-md-6\">\n",
       "<select aria-label=\"Default select example\" class=\"form-select\" id=\"options\">\n",
       "<option onchange=\"0\" selected=\"\">Mars</option>\n",
       "<!-- <option data-filter=\"sun\" class=\"button\">Mars</option> -->\n",
       "<option class=\"button\" data-filter=\"Sun\">Sun</option>\n",
       "<option class=\"button\" data-filter=\"earth\">Earth</option>\n",
       "<option class=\"button\" data-filter=\"ida\">Ida</option>\n",
       "<option class=\"button\" data-filter=\"jupiter\">Jupiter</option>\n",
       "<option class=\"button\" data-filter=\"venus\">Venus</option>\n",
       "</select>\n",
       "</div>\n",
       "</div>\n",
       "</div>\n",
       "</div>\n",
       "<div class=\"container mt-5\">\n",
       "<div class=\"col-md-12\">\n",
       "<div class=\"row\">\n",
       "<div class=\"col-md-6\">\n",
       "<h1>Images</h1>\n",
       "</div>\n",
       "<div class=\"col-md-6\" id=\"icon\">\n",
       "<div class=\"icon2\"></div>\n",
       "<div class=\"icon1\"></div>\n",
       "</div>\n",
       "</div>\n",
       "</div>\n",
       "<!-- first div -->\n",
       "<div class=\"div1\" id=\"filter\">\n",
       "<div class=\"thmbgroup\"><a class=\"fancybox-thumbs\" data-fancybox-group=\"thumb\" href=\"image/mars/Icaria Fossae7.jpg\"><div class=\"thmb\"><img alt=\"\" class=\"thumbimg\" src=\"image/mars/Icaria Fossae7.jpg\"/><p class=\"thumbcontent\">January 1, 2020<br/>Icaria Fossae7</p></div></a><a class=\"fancybox-thumbs\" data-fancybox-group=\"thumb\" href=\"image/mars/Proctor Crater Dunes 7.jpg\"><div class=\"thmb\"><img alt=\"\" class=\"thumbimg\" src=\"image/mars/Proctor Crater Dunes 7.jpg\"/><p class=\"thumbcontent\">December 31, 2020<br/>Proctor Crater Dunes</p></div></a><a class=\"fancybox-thumbs\" data-fancybox-group=\"thumb\" href=\"image/mars/Icaria Fossae7.jpg\"><div class=\"thmb\"><img alt=\"\" class=\"thumbimg\" src=\"image/mars/Icaria Fossae7.jpg\"/><p class=\"thumbcontent\">December 31, 2020<br/>Icaria Fossae</p></div></a><a class=\"fancybox-thumbs\" data-fancybox-group=\"thumb\" href=\"image/mars/Proctor Crater Dunes 7.jpg\"><div class=\"thmb\"><img alt=\"\" class=\"thumbimg\" src=\"image/mars/Proctor Crater Dunes 7.jpg\"/><p class=\"thumbcontent\">December 29, 2020<br/>Proctor Crater Dunes</p></div></a><a class=\"fancybox-thumbs\" data-fancybox-group=\"thumb\" href=\"image/mars/Proctor Crater Dunes 7.jpg\"><div class=\"thmb\"><img alt=\"\" class=\"thumbimg\" src=\"image/mars/Proctor Crater Dunes 7.jpg\"/><p class=\"thumbcontent\">December 28, 2020<br/>roctor Crater Dunes</p></div></a><a class=\"fancybox-thumbs\" data-fancybox-group=\"thumb\" href=\"image/mars/Icaria Fossae7.jpg\"><div class=\"thmb\"><img alt=\"\" class=\"thumbimg\" src=\"image/mars/Icaria Fossae7.jpg\"/><p class=\"thumbcontent\">December 22, 2020<br/>Icaria Fossae</p></div></a><a class=\"fancybox-thumbs\" data-fancybox-group=\"thumb\" href=\"image/mars/Icaria Fossae.jpg\"><div class=\"thmb\"><img alt=\"\" class=\"thumbimg\" src=\"image/mars/Icaria Fossae.jpg\"/><p class=\"thumbcontent\">December 21, 2020<br/>Icaria Fossae</p></div></a><a class=\"fancybox-thumbs\" data-fancybox-group=\"thumb\" href=\"image/mars/Ariadnes Colles4.jpg\"><div class=\"thmb\"><img alt=\"\" class=\"thumbimg\" src=\"image/mars/Ariadnes Colles4.jpg\"/><p class=\"thumbcontent\">December 18, 2020<br/>Ariadnes Colles</p></div></a><a class=\"fancybox-thumbs\" data-fancybox-group=\"thumb\" href=\"image/mars/Niger Vallis.jpg\"><div class=\"thmb\"><img alt=\"\" class=\"thumbimg\" src=\"image/mars/Niger Vallis.jpg\"/><p class=\"thumbcontent\">December 17, 2020<br/>Niger Vallis</p></div></a><a class=\"fancybox-thumbs\" data-fancybox-group=\"thumb\" href=\"image/mars/Proctor Crater Dunes.jpg\"><div class=\"thmb\"><img alt=\"\" class=\"thumbimg\" src=\"image/mars/Proctor Crater Dunes.jpg\"/><p class=\"thumbcontent\">December 16, 2020<br/>Proctor Crater Dunes</p></div></a><a class=\"fancybox-thumbs\" data-fancybox-group=\"thumb\" href=\"image/mars/Niger Vallis.jpg\"><div class=\"thmb\"><img alt=\"\" class=\"thumbimg\" src=\"image/mars/Niger Vallis.jpg\"/><p class=\"thumbcontent\">December 15, 2020<br/>Niger Vallis</p></div></a><a class=\"fancybox-thumbs\" data-fancybox-group=\"thumb\" href=\"image/mars/Daedalia Planum.jpg\"><div class=\"thmb\"><img alt=\"\" class=\"thumbimg\" src=\"image/mars/Daedalia Planum.jpg\"/><p class=\"thumbcontent\">December 11, 2020<br/>Daedalia Planum</p></div></a><a class=\"fancybox-thumbs\" data-fancybox-group=\"thumb\" href=\"image/mars/Sirenum Fossae.jpg\"><div class=\"thmb\"><img alt=\"\" class=\"thumbimg\" src=\"image/mars/Sirenum Fossae.jpg\"/><p class=\"thumbcontent\">November,11, 2020<br/>Sirenum Fossae</p></div></a><a class=\"fancybox-thumbs\" data-fancybox-group=\"thumb\" href=\"image/mars/Ariadnes Colles4.jpg\"><div class=\"thmb\"><img alt=\"\" class=\"thumbimg\" src=\"image/mars/Ariadnes Colles4.jpg\"/><p class=\"thumbcontent\">November,13, 2020<br/>Ariadnes Colles</p></div></a><a class=\"fancybox-thumbs\" data-fancybox-group=\"thumb\" href=\"image/mars/South Polar Cap.jpg\"><div class=\"thmb\"><img alt=\"\" class=\"thumbimg\" src=\"image/mars/South Polar Cap.jpg\"/><p class=\"thumbcontent\">November,14, 2020<br/>South Polar Cap</p></div></a><a class=\"fancybox-thumbs\" data-fancybox-group=\"thumb\" href=\"image/mars/Daedalia Planum.jpg\"><div class=\"thmb\"><img alt=\"\" class=\"thumbimg\" src=\"image/mars/Daedalia Planum.jpg\"/><p class=\"thumbcontent\">November,17, 2020<br/>Daedalia Planum</p></div></a><a class=\"fancybox-thumbs\" data-fancybox-group=\"thumb\" href=\"image/mars/Ariadnes Colles3.jpg\"><div class=\"thmb\"><img alt=\"\" class=\"thumbimg\" src=\"image/mars/Ariadnes Colles3.jpg\"/><p class=\"thumbcontent\">November,11, 2020<br/>Ariadnes Colles</p></div></a><a class=\"fancybox-thumbs\" data-fancybox-group=\"thumb\" href=\"image/mars/Atlantis Chaos.jpg\"><div class=\"thmb\"><img alt=\"\" class=\"thumbimg\" src=\"image/mars/Atlantis Chaos.jpg\"/><p class=\"thumbcontent\">November,09, 2020<br/>Atlantis Chaos</p></div></a><a class=\"fancybox-thumbs\" data-fancybox-group=\"thumb\" href=\"image/mars/Daedalia Planum.jpg\"><div class=\"thmb\"><img alt=\"\" class=\"thumbimg\" src=\"image/mars/Daedalia Planum.jpg\"/><p class=\"thumbcontent\">January 1, 2020<br/>Daedalia Planum</p></div></a><a class=\"fancybox-thumbs\" data-fancybox-group=\"thumb\" href=\"image/mars/Icaria Fossae.jpg\"><div class=\"thmb\"><img alt=\"\" class=\"thumbimg\" src=\"image/mars/Icaria Fossae.jpg\"/><p class=\"thumbcontent\">January 1, 2020<br/>Icaria Fossae</p></div></a><a class=\"fancybox-thumbs\" data-fancybox-group=\"thumb\" href=\"image/mars/Niger Vallis.jpg\"><div class=\"thmb\"><img alt=\"\" class=\"thumbimg\" src=\"image/mars/Niger Vallis.jpg\"/><p class=\"thumbcontent\">January 1, 2020<br/>Niger Vallis</p></div></a><a class=\"fancybox-thumbs\" data-fancybox-group=\"thumb\" href=\"image/mars/Proctor Crater Dunes.jpg\"><div class=\"thmb\"><img alt=\"\" class=\"thumbimg\" src=\"image/mars/Proctor Crater Dunes.jpg\"/><p class=\"thumbcontent\">January 1, 2020<br/>Proctor Crater Dunes</p></div></a><a class=\"fancybox-thumbs\" data-fancybox-group=\"thumb\" href=\"image/mars/Reull Vallis.jpg\"><div class=\"thmb\"><img alt=\"\" class=\"thumbimg\" src=\"image/mars/Reull Vallis.jpg\"/><p class=\"thumbcontent\">January 1, 2020<br/>Reull Vallis</p></div></a><a class=\"fancybox-thumbs\" data-fancybox-group=\"thumb\" href=\"image/mars/Ariadnes Colles3.jpg\"><div class=\"thmb\"><img alt=\"\" class=\"thumbimg\" src=\"image/mars/Ariadnes Colles3.jpg\"/><p class=\"thumbcontent\">January 1, 2020<br/>Ariadnes Colles</p></div></a><a class=\"fancybox-thumbs\" data-fancybox-group=\"thumb\" href=\"image/mars/Sirenum Fossae.jpg\"><div class=\"thmb\"><img alt=\"\" class=\"thumbimg\" src=\"image/mars/Sirenum Fossae.jpg\"/><p class=\"thumbcontent\">January 1, 2020<br/>Sirenum Fossae</p></div></a><a class=\"fancybox-thumbs\" data-fancybox-group=\"thumb\" href=\"image/mars/South Polar Cap.jpg\"><div class=\"thmb\"><img alt=\"\" class=\"thumbimg\" src=\"image/mars/South Polar Cap.jpg\"/><p class=\"thumbcontent\">January 1, 2020<br/>South Polar Cap</p></div></a><a class=\"fancybox-thumbs\" data-fancybox-group=\"thumb\" href=\"image/mars/Niger Vallis.jpg\"><div class=\"thmb\"><img alt=\"\" class=\"thumbimg\" src=\"image/mars/Niger Vallis.jpg\"/><p class=\"thumbcontent\">January 1, 2020<br/>Niger Vallis</p></div></a><a class=\"fancybox-thumbs\" data-fancybox-group=\"thumb\" href=\"image/mars/Daedalia Planum.jpg\"><div class=\"thmb\"><img alt=\"\" class=\"thumbimg\" src=\"image/mars/Daedalia Planum.jpg\"/><p class=\"thumbcontent\">January 1, 2020<br/>Daedalia Planum</p></div></a><a class=\"fancybox-thumbs\" data-fancybox-group=\"thumb\" href=\"image/mars/Icaria Fossae.jpg\"><div class=\"thmb\"><img alt=\"\" class=\"thumbimg\" src=\"image/mars/Icaria Fossae.jpg\"/><p class=\"thumbcontent\">January 1, 2020<br/>Icaria Fossae</p></div></a><a class=\"fancybox-thumbs\" data-fancybox-group=\"thumb\" href=\"image/mars/Ariadnes Colles4.jpg\"><div class=\"thmb\"><img alt=\"\" class=\"thumbimg\" src=\"image/mars/Ariadnes Colles4.jpg\"/><p class=\"thumbcontent\">January 1, 2020<br/>Ariadnes Colles</p></div></a><a class=\"fancybox-thumbs\" data-fancybox-group=\"thumb\" href=\"image/mars/South Polar Cap.jpg\"><div class=\"thmb\"><img alt=\"\" class=\"thumbimg\" src=\"image/mars/South Polar Cap.jpg\"/><p class=\"thumbcontent\">January 1, 2020<br/>South Polar Cap</p></div></a><a class=\"fancybox-thumbs\" data-fancybox-group=\"thumb\" href=\"image/mars/Daedalia Planum.jpg\"><div class=\"thmb\"><img alt=\"\" class=\"thumbimg\" src=\"image/mars/Daedalia Planum.jpg\"/><p class=\"thumbcontent\">January 1, 2020<br/>Daedalia Planum</p></div></a></div>\n",
       "</div>\n",
       "<!-- first div ends -->\n",
       "<!-- second div starts -->\n",
       "<div class=\"col-md-12 grid-margin\" id=\"column\">\n",
       "<ul class=\"post-list\">\n",
       "<li class=\"post-heading\"></li>\n",
       "</ul>\n",
       "</div>\n",
       "<!-- second div starts -->\n",
       "</div>\n",
       "<div class=\"first imgcontainer mt-3\">\n",
       "<div class=\"col-md-12\">\n",
       "<div class=\"row\">\n",
       "<div class=\"col-md-3\">\n",
       "<img id=\"pic\" src=\"\"/>\n",
       "</div>\n",
       "</div>\n",
       "</div>\n",
       "</div>\n",
       "<!-- end -->\n",
       "<div class=\"module_gallery container\">\n",
       "<div class=\"col-md-12\">\n",
       "<div class=\"row\">\n",
       "<div class=\"col-md-6\">\n",
       "<div class=\"card\">\n",
       "<img alt=\"Card image cap\" class=\"card-img-top\" src=\"https://www.jpl.nasa.gov/assets/images/content/tmp/images/jpl_photojournal(3x1).jpg\"/>\n",
       "<div class=\"card-body\">\n",
       "<h5 class=\"card-title\">JPL Photojournal</h5>\n",
       "<p class=\"card-text\">Access to the full library of publicly released images from various Solar System exploration programs</p>\n",
       "</div>\n",
       "</div>\n",
       "</div>\n",
       "<div class=\"col-md-6\">\n",
       "<div class=\"card\">\n",
       "<img alt=\"Card image cap\" class=\"card-img-top\" src=\"https://www.jpl.nasa.gov/assets/images/content/tmp/images/nasa_images(3x1).jpg\"/>\n",
       "<div class=\"card-body\">\n",
       "<h5 class=\"card-title\">Great images in NASA</h5>\n",
       "<p class=\"card-text\">A selection of the best-known images from a half-century of exploration and discovery</p>\n",
       "</div>\n",
       "</div>\n",
       "</div>\n",
       "</div>\n",
       "</div>\n",
       "</div>\n",
       "<div class=\"multi_teaser\">\n",
       "<div class=\"container\">\n",
       "<h1>You Might Also Like</h1>\n",
       "<div class=\"col-md-12 mt-5\">\n",
       "<div class=\"row\">\n",
       "<div class=\"col-md-4\">\n",
       "<div class=\"card\">\n",
       "<img alt=\"Card image cap\" class=\"card-img-top\" src=\"https://imagecache.jpl.nasa.gov/images/640x350/C1-PIA24304---CatScanMars-16-640x350.gif\"/>\n",
       "<div class=\"card-body\">\n",
       "<p class=\"card-text\">Access to the full library of publicly released images from various Solar System exploration programs</p>\n",
       "</div>\n",
       "</div>\n",
       "</div>\n",
       "<div class=\"col-md-4\">\n",
       "<div class=\"card\">\n",
       "<img alt=\"Card image cap\" class=\"card-img-top\" src=\"https://imagecache.jpl.nasa.gov/images/640x350/PIA23491-16-640x350.jpg\"/>\n",
       "<div class=\"card-body\">\n",
       "<p class=\"card-text\">Access to the full library of publicly released images from various Solar System exploration programs</p>\n",
       "</div>\n",
       "</div>\n",
       "</div>\n",
       "<div class=\"col-md-4\">\n",
       "<div class=\"card\">\n",
       "<img alt=\"Card image cap\" class=\"card-img-top\" src=\"https://imagecache.jpl.nasa.gov/images/640x350/C1-PIA23180-16-640x350.gif\"/>\n",
       "<div class=\"card-body\">\n",
       "<p class=\"card-text\">Access to the full library of publicly released images from various Solar System exploration programs</p>\n",
       "</div>\n",
       "</div>\n",
       "</div>\n",
       "</div>\n",
       "</div>\n",
       "</div>\n",
       "</div>\n",
       "<div class=\"footer\">\n",
       "<div class=\"container\">\n",
       "<div class=\"col-md-12\">\n",
       "<div class=\"row\">\n",
       "<div class=\"col-md-3\">\n",
       "<h4>About JPL</h4>\n",
       "<ul>\n",
       "<li>About JPL</li>\n",
       "<li>JPL Vision</li>\n",
       "<li>Executive Council</li>\n",
       "<li>History</li>\n",
       "</ul>\n",
       "</div>\n",
       "<div class=\"col-md-3\">\n",
       "<h4>Education</h4>\n",
       "<ul>\n",
       "<li>Intern</li>\n",
       "<li>Learn</li>\n",
       "<li>Teach</li>\n",
       "<li>News</li>\n",
       "</ul>\n",
       "</div>\n",
       "<div class=\"col-md-3\">\n",
       "<h4>Our Sites</h4>\n",
       "<ul>\n",
       "<li>Asteroid Watch</li>\n",
       "<li>Basics of Spaceflight</li>\n",
       "<li>Cassini - Mission to Saturn</li>\n",
       "<li>Climate Kids</li>\n",
       "</ul>\n",
       "</div>\n",
       "<div class=\"col-md-3\">\n",
       "<h4>Galleries</h4>\n",
       "<ul>\n",
       "<li>JPL Space Images</li>\n",
       "<li>Videos</li>\n",
       "<li>Infographics</li>\n",
       "<li>Photojournal</li>\n",
       "</ul>\n",
       "</div>\n",
       "</div>\n",
       "</div>\n",
       "</div>\n",
       "</div>\n",
       "<!--<div class=\"showFullimage\">\n",
       "\t<button class=\"btn btn-outline-light hideimage\" onclick=hideimage()> Close</button>\n",
       "\t<img class=\"fullimage fade-in\" src=\"\">\n",
       "</div>-->\n",
       "<!-- <script src=\"js/jquery.easeScroll.js\"></script>  -->\n",
       "<script src=\"js/jquery-3.5.1.min.js\"></script>\n",
       "<!-- <script src=\"js/jquery-3.2.1.slim.min.js\"></script> -->\n",
       "<script src=\"js/demo.js\"></script>\n",
       "<!-- <script src=\"js/app.js\"></script> -->\n",
       "<script src=\"https://cdnjs.cloudflare.com/ajax/libs/popper.js/1.12.9/umd/popper.min.js\"></script>\n",
       "<script src=\"https://maxcdn.bootstrapcdn.com/bootstrap/4.0.0/js/bootstrap.min.js\"></script>\n",
       "<script src=\"js/fancyBox/jquery.fancybox.pack.js?v=2.1.5\" type=\"text/javascript\"></script>\n",
       "<link href=\"js/fancyBox/jquery.fancybox.css?v=2.1.5\" media=\"screen\" rel=\"stylesheet\" type=\"text/css\"/>\n",
       "<link href=\"js/fancyBox/helpers/jquery.fancybox-thumbs.css?v=1.0.7\" rel=\"stylesheet\" type=\"text/css\"/>\n",
       "<script src=\"js/fancyBox/helpers/jquery.fancybox-thumbs.js?v=1.0.7\" type=\"text/javascript\"></script>\n",
       "<div class=\"fancybox-overlay fancybox-overlay-fixed\" style=\"width: auto; height: auto; display: block;\"><div class=\"fancybox-wrap fancybox-desktop fancybox-type-image\" style=\"width: 670px; height: 380px; position: absolute; top: 147px; left: 174px; opacity: 0.100036; overflow: hidden;\" tabindex=\"-1\"><div class=\"fancybox-skin\" style=\"padding: 15px; width: auto; height: auto;\"><div class=\"fancybox-outer\"><div class=\"fancybox-inner\" style=\"overflow: visible; width: 640px; height: 350px;\"><img alt=\"\" class=\"fancybox-image\" src=\"image/featured/mars3.jpg\"/></div></div></div></div></div></body></html>"
      ]
     },
     "execution_count": 19,
     "metadata": {},
     "output_type": "execute_result"
    }
   ],
   "source": [
    "full_website_image"
   ]
  },
  {
   "cell_type": "code",
   "execution_count": 20,
   "id": "121ef55f",
   "metadata": {},
   "outputs": [
    {
     "data": {
      "text/plain": [
       "'image/featured/mars3.jpg'"
      ]
     },
     "execution_count": 20,
     "metadata": {},
     "output_type": "execute_result"
    }
   ],
   "source": [
    "mars_featured_image = full_website_image.find(\"img\", class_ = \"fancybox-image\").get(\"src\")\n",
    "mars_featured_image"
   ]
  },
  {
   "cell_type": "code",
   "execution_count": 21,
   "id": "3ab8df4f",
   "metadata": {},
   "outputs": [
    {
     "data": {
      "text/plain": [
       "'https://spaceimages-mars.com/image/featured/mars3.jpg'"
      ]
     },
     "execution_count": 21,
     "metadata": {},
     "output_type": "execute_result"
    }
   ],
   "source": [
    "featured_image_url = \"https://spaceimages-mars.com/\" + mars_featured_image\n",
    "featured_image_url"
   ]
  },
  {
   "cell_type": "code",
   "execution_count": 22,
   "id": "7d3cae08",
   "metadata": {},
   "outputs": [
    {
     "data": {
      "text/html": [
       "<div>\n",
       "<style scoped>\n",
       "    .dataframe tbody tr th:only-of-type {\n",
       "        vertical-align: middle;\n",
       "    }\n",
       "\n",
       "    .dataframe tbody tr th {\n",
       "        vertical-align: top;\n",
       "    }\n",
       "\n",
       "    .dataframe thead th {\n",
       "        text-align: right;\n",
       "    }\n",
       "</style>\n",
       "<table border=\"1\" class=\"dataframe\">\n",
       "  <thead>\n",
       "    <tr style=\"text-align: right;\">\n",
       "      <th></th>\n",
       "      <th>0</th>\n",
       "      <th>1</th>\n",
       "      <th>2</th>\n",
       "    </tr>\n",
       "  </thead>\n",
       "  <tbody>\n",
       "    <tr>\n",
       "      <th>0</th>\n",
       "      <td>Mars - Earth Comparison</td>\n",
       "      <td>Mars</td>\n",
       "      <td>Earth</td>\n",
       "    </tr>\n",
       "    <tr>\n",
       "      <th>1</th>\n",
       "      <td>Diameter:</td>\n",
       "      <td>6,779 km</td>\n",
       "      <td>12,742 km</td>\n",
       "    </tr>\n",
       "    <tr>\n",
       "      <th>2</th>\n",
       "      <td>Mass:</td>\n",
       "      <td>6.39 × 10^23 kg</td>\n",
       "      <td>5.97 × 10^24 kg</td>\n",
       "    </tr>\n",
       "    <tr>\n",
       "      <th>3</th>\n",
       "      <td>Moons:</td>\n",
       "      <td>2</td>\n",
       "      <td>1</td>\n",
       "    </tr>\n",
       "    <tr>\n",
       "      <th>4</th>\n",
       "      <td>Distance from Sun:</td>\n",
       "      <td>227,943,824 km</td>\n",
       "      <td>149,598,262 km</td>\n",
       "    </tr>\n",
       "    <tr>\n",
       "      <th>5</th>\n",
       "      <td>Length of Year:</td>\n",
       "      <td>687 Earth days</td>\n",
       "      <td>365.24 days</td>\n",
       "    </tr>\n",
       "    <tr>\n",
       "      <th>6</th>\n",
       "      <td>Temperature:</td>\n",
       "      <td>-87 to -5 °C</td>\n",
       "      <td>-88 to 58°C</td>\n",
       "    </tr>\n",
       "  </tbody>\n",
       "</table>\n",
       "</div>"
      ],
      "text/plain": [
       "                         0                1                2\n",
       "0  Mars - Earth Comparison             Mars            Earth\n",
       "1                Diameter:         6,779 km        12,742 km\n",
       "2                    Mass:  6.39 × 10^23 kg  5.97 × 10^24 kg\n",
       "3                   Moons:                2                1\n",
       "4       Distance from Sun:   227,943,824 km   149,598,262 km\n",
       "5          Length of Year:   687 Earth days      365.24 days\n",
       "6             Temperature:     -87 to -5 °C      -88 to 58°C"
      ]
     },
     "execution_count": 22,
     "metadata": {},
     "output_type": "execute_result"
    }
   ],
   "source": [
    "mars_table = pd.read_html(\"https://galaxyfacts-mars.com/\")[0]\n",
    "mars_table"
   ]
  },
  {
   "cell_type": "code",
   "execution_count": 23,
   "id": "0e7b2ad4",
   "metadata": {},
   "outputs": [
    {
     "data": {
      "text/html": [
       "<div>\n",
       "<style scoped>\n",
       "    .dataframe tbody tr th:only-of-type {\n",
       "        vertical-align: middle;\n",
       "    }\n",
       "\n",
       "    .dataframe tbody tr th {\n",
       "        vertical-align: top;\n",
       "    }\n",
       "\n",
       "    .dataframe thead th {\n",
       "        text-align: right;\n",
       "    }\n",
       "</style>\n",
       "<table border=\"1\" class=\"dataframe\">\n",
       "  <thead>\n",
       "    <tr style=\"text-align: right;\">\n",
       "      <th></th>\n",
       "      <th>Mars</th>\n",
       "      <th>Earth</th>\n",
       "    </tr>\n",
       "    <tr>\n",
       "      <th>Description</th>\n",
       "      <th></th>\n",
       "      <th></th>\n",
       "    </tr>\n",
       "  </thead>\n",
       "  <tbody>\n",
       "    <tr>\n",
       "      <th>Mars - Earth Comparison</th>\n",
       "      <td>Mars</td>\n",
       "      <td>Earth</td>\n",
       "    </tr>\n",
       "    <tr>\n",
       "      <th>Diameter:</th>\n",
       "      <td>6,779 km</td>\n",
       "      <td>12,742 km</td>\n",
       "    </tr>\n",
       "    <tr>\n",
       "      <th>Mass:</th>\n",
       "      <td>6.39 × 10^23 kg</td>\n",
       "      <td>5.97 × 10^24 kg</td>\n",
       "    </tr>\n",
       "    <tr>\n",
       "      <th>Moons:</th>\n",
       "      <td>2</td>\n",
       "      <td>1</td>\n",
       "    </tr>\n",
       "    <tr>\n",
       "      <th>Distance from Sun:</th>\n",
       "      <td>227,943,824 km</td>\n",
       "      <td>149,598,262 km</td>\n",
       "    </tr>\n",
       "    <tr>\n",
       "      <th>Length of Year:</th>\n",
       "      <td>687 Earth days</td>\n",
       "      <td>365.24 days</td>\n",
       "    </tr>\n",
       "    <tr>\n",
       "      <th>Temperature:</th>\n",
       "      <td>-87 to -5 °C</td>\n",
       "      <td>-88 to 58°C</td>\n",
       "    </tr>\n",
       "  </tbody>\n",
       "</table>\n",
       "</div>"
      ],
      "text/plain": [
       "                                    Mars            Earth\n",
       "Description                                              \n",
       "Mars - Earth Comparison             Mars            Earth\n",
       "Diameter:                       6,779 km        12,742 km\n",
       "Mass:                    6.39 × 10^23 kg  5.97 × 10^24 kg\n",
       "Moons:                                 2                1\n",
       "Distance from Sun:        227,943,824 km   149,598,262 km\n",
       "Length of Year:           687 Earth days      365.24 days\n",
       "Temperature:                -87 to -5 °C      -88 to 58°C"
      ]
     },
     "execution_count": 23,
     "metadata": {},
     "output_type": "execute_result"
    }
   ],
   "source": [
    "mars_table.columns=['Description', 'Mars', 'Earth']\n",
    "mars_table.set_index('Description', inplace=True)\n",
    "mars_table"
   ]
  },
  {
   "cell_type": "code",
   "execution_count": 35,
   "id": "73f4b11b",
   "metadata": {},
   "outputs": [],
   "source": [
    "mars_table_html = mars_table.to_html()"
   ]
  },
  {
   "cell_type": "code",
   "execution_count": 26,
   "id": "1aa72948",
   "metadata": {},
   "outputs": [],
   "source": [
    "url3 = \"https://marshemispheres.com/\""
   ]
  },
  {
   "cell_type": "code",
   "execution_count": 27,
   "id": "c887fac9",
   "metadata": {},
   "outputs": [],
   "source": [
    "browser.visit(url3)"
   ]
  },
  {
   "cell_type": "code",
   "execution_count": 28,
   "id": "c9a8f952",
   "metadata": {},
   "outputs": [],
   "source": [
    "hemisphere=browser.html"
   ]
  },
  {
   "cell_type": "code",
   "execution_count": 29,
   "id": "afce9a74",
   "metadata": {},
   "outputs": [
    {
     "data": {
      "text/plain": [
       "<html lang=\"en\"><head>\n",
       "<meta content=\"text/html; charset=utf-8\" http-equiv=\"Content-Type\"/>\n",
       "<link href=\"css/jquery-ui.css\" rel=\"stylesheet\" type=\"text/css\"/>\n",
       "<title>Astropedia Search Results | GUSS Astrogeology Science Center</title>\n",
       "<meta content=\"GUSS Astrogeology Science Center Astropedia search results.\" name=\"description\"/>\n",
       "<meta content=\"GUSS,Astrogeology Science Center,Cartography,Geology,Space,Geological Survey,Mapping\" name=\"keywords\"/>\n",
       "<meta content=\"IE=edge\" http-equiv=\"X-UA-Compatible\"/>\n",
       "<meta content=\"width=device-width, initial-scale=1, maximum-scale=1\" name=\"viewport\"/>\n",
       "<link href=\"css/main.css\" media=\"screen\" rel=\"stylesheet\"/>\n",
       "<link href=\"css/print.css\" media=\"print\" rel=\"stylesheet\"/>\n",
       "<link href=\"#\" rel=\"icon\" type=\"image/x-ico\"/>\n",
       "</head>\n",
       "<body id=\"results\">\n",
       "<header>\n",
       "<a href=\"#\" style=\"float:right;margin-top:10px;\" target=\"_blank\">\n",
       "<img alt=\"USGS: Science for a Changing World\" class=\"logo\" height=\"60\" src=\"images/usgs_logo_main_2x.png\"/>\n",
       "</a>\n",
       "<a href=\"#\" style=\"float:right;margin-top:5px;margin-right:20px;\" target=\"_blank\">\n",
       "<img alt=\"NASA\" class=\"logo\" height=\"65\" src=\"images/nasa-logo-web-med.png\"/>\n",
       "</a>\n",
       "</header>\n",
       "<div class=\"wrapper\">\n",
       "<div class=\"container\">\n",
       "<div class=\"widget block bar\">\n",
       "<a href=\"https://astrogeology.usgs.gov/search\" style=\"float:right;text-decoration:none;\">\n",
       "<img alt=\"Astropedia\" src=\"images/astropedia-logo-main.png\" style=\"width:200px;border:none;float:right;\"/>\n",
       "<div style=\"clear:both;font-size:.8em;float:right;color:#888;\">Lunar and Planetary Cartographic Catalog</div>\n",
       "</a>\n",
       "<div style=\"float:left;height:60px;\">\n",
       "</div>\n",
       "</div>\n",
       "<div class=\"full-content\">\n",
       "<section class=\"block\" id=\"results-accordian\">\n",
       "<div class=\"result-list\" data-section=\"product\" id=\"product-section\">\n",
       "<div class=\"accordian\">\n",
       "<h2>Products</h2>\n",
       "<span class=\"count\">4 Results</span>\n",
       "<span class=\"collapse\">Collapse</span>\n",
       "</div>\n",
       "<div class=\"collapsible results\">\n",
       "<div class=\"item\">\n",
       "<a class=\"itemLink product-item\" href=\"cerberus.html\"><img alt=\"Cerberus Hemisphere Enhanced thumbnail\" class=\"thumb\" src=\"images/39d3266553462198bd2fbc4d18fbed17_cerberus_enhanced.tif_thumb.png\"/></a>\n",
       "<div class=\"description\">\n",
       "<a class=\"itemLink product-item\" href=\"cerberus.html\">\n",
       "<h3>Cerberus Hemisphere Enhanced</h3>\n",
       "</a>\n",
       "<span class=\"subtitle\" style=\"float:left\">image/tiff 21 MB</span><span class=\"pubDate\" style=\"float:right\"></span><br/>\n",
       "<p>Mosaic of the Cerberus hemisphere of Mars projected into point perspective, a view similar to that which one would see from a spacecraft. This mosaic is composed of 104 Viking Orbiter images acquired…</p>\n",
       "</div>\n",
       "<!-- end description -->\n",
       "</div>\n",
       "<div class=\"item\">\n",
       "<a class=\"itemLink product-item\" href=\"schiaparelli.html\"><img alt=\"Schiaparelli Hemisphere Enhanced thumbnail\" class=\"thumb\" src=\"images/08eac6e22c07fb1fe72223a79252de20_schiaparelli_enhanced.tif_thumb.png\"/></a>\n",
       "<div class=\"description\">\n",
       "<a class=\"itemLink product-item\" href=\"schiaparelli.html\">\n",
       "<h3>Schiaparelli Hemisphere Enhanced</h3>\n",
       "</a>\n",
       "<span class=\"subtitle\" style=\"float:left\">image/tiff 35 MB</span><span class=\"pubDate\" style=\"float:right\"></span><br/>\n",
       "<p>Mosaic of the Schiaparelli hemisphere of Mars projected into point perspective, a view similar to that which one would see from a spacecraft. The images were acquired in 1980 during early northern…</p>\n",
       "</div>\n",
       "<!-- end description -->\n",
       "</div>\n",
       "<div class=\"item\">\n",
       "<a class=\"itemLink product-item\" href=\"syrtis.html\"><img alt=\"Syrtis Major Hemisphere Enhanced thumbnail\" class=\"thumb\" src=\"images/55a0a1e2796313fdeafb17c35925e8ac_syrtis_major_enhanced.tif_thumb.png\"/></a>\n",
       "<div class=\"description\">\n",
       "<a class=\"itemLink product-item\" href=\"syrtis.html\">\n",
       "<h3>Syrtis Major Hemisphere Enhanced</h3>\n",
       "</a>\n",
       "<span class=\"subtitle\" style=\"float:left\">image/tiff 25 MB</span><span class=\"pubDate\" style=\"float:right\"></span><br/>\n",
       "<p>Mosaic of the Syrtis Major hemisphere of Mars projected into point perspective, a view similar to that which one would see from a spacecraft. This mosaic is composed of about 100 red and violet…</p>\n",
       "</div>\n",
       "<!-- end description -->\n",
       "</div>\n",
       "<div class=\"item\">\n",
       "<a class=\"itemLink product-item\" href=\"valles.html\"><img alt=\"Valles Marineris Hemisphere Enhanced thumbnail\" class=\"thumb\" src=\"images/4e59980c1c57f89c680c0e1ccabbeff1_valles_marineris_enhanced.tif_thumb.png\"/></a>\n",
       "<div class=\"description\">\n",
       "<a class=\"itemLink product-item\" href=\"valles.html\">\n",
       "<h3>Valles Marineris Hemisphere Enhanced</h3>\n",
       "</a>\n",
       "<span class=\"subtitle\" style=\"float:left\">image/tiff 27 MB</span><span class=\"pubDate\" style=\"float:right\"></span><br/>\n",
       "<p>Mosaic of the Valles Marineris hemisphere of Mars projected into point perspective, a view similar to that which one would see from a spacecraft. The distance is 2500 kilometers from the surface of…</p>\n",
       "</div>\n",
       "<!-- end description -->\n",
       "</div>\n",
       "</div>\n",
       "<!-- end this-section -->\n",
       "</div>\n",
       "</section>\n",
       "</div>\n",
       "<div class=\"navigation clear\" style=\"display: none;\">\n",
       "<a class=\"itemLink product-item\" href=\"#\" onclick=\"showMain()\">\n",
       "<h3>Back</h3>\n",
       "</a>\n",
       "</div>\n",
       "</div>\n",
       "<footer>\n",
       "<div class=\"left\">\n",
       "<a href=\"#\">Search</a> |\n",
       "               <a href=\"#\">About</a> |\n",
       "               <a href=\"#\">Contact</a>\n",
       "</div>\n",
       "<div class=\"right\">\n",
       "<a href=\"#\">GUSS Science Center</a>\n",
       "</div>\n",
       "</footer>\n",
       "</div>\n",
       "<div class=\"page-background\" style=\"\n",
       "         background:url('./images/mars.jpg');\n",
       "         filter:progid:DXImageTransform.Microsoft.AlphaImageLoader(\n",
       "         src='./images/mars.jpg', sizingMethod='scale');\n",
       "         \"></div>\n",
       "<script type=\"text/javascript\">\n",
       "         var baseUrl = \"\";\n",
       "\n",
       "\n",
       "\n",
       "      </script>\n",
       "<script src=\"js/jquery.min.js\" type=\"text/javascript\"></script>\n",
       "<script src=\"js/jquery-ui.min.js\" type=\"text/javascript\"></script>\n",
       "<script src=\"js/general.js\" type=\"text/javascript\"></script>\n",
       "</body></html>"
      ]
     },
     "execution_count": 29,
     "metadata": {},
     "output_type": "execute_result"
    }
   ],
   "source": [
    "hemisphere_parser = soup(hemisphere, \"html.parser\")\n",
    "hemisphere_parser"
   ]
  },
  {
   "cell_type": "code",
   "execution_count": 30,
   "id": "1d3272ba",
   "metadata": {},
   "outputs": [],
   "source": [
    "hemisphere_html = browser.html"
   ]
  },
  {
   "cell_type": "code",
   "execution_count": 31,
   "id": "322f0fd9",
   "metadata": {},
   "outputs": [
    {
     "data": {
      "text/plain": [
       "<splinter.element_list.ElementList at 0x17d4428f9d0>"
      ]
     },
     "execution_count": 31,
     "metadata": {},
     "output_type": "execute_result"
    }
   ],
   "source": [
    "images = browser.find_by_css(\"a.product-item img\")\n",
    "images"
   ]
  },
  {
   "cell_type": "code",
   "execution_count": 32,
   "id": "e2f7029e",
   "metadata": {},
   "outputs": [],
   "source": [
    "hemisphere_image_urls = []\n",
    "\n",
    "links = browser.find_by_css('a.product-item img')\n",
    "\n",
    "for i in range(len(links)):\n",
    "    hemisphere = {}\n",
    "    browser.find_by_css('a.product-item img')[i].click()\n",
    "    sample_elem = browser.links.find_by_text('Sample').first\n",
    "    hemisphere['img_url'] = sample_elem['href']\n",
    "    hemisphere['title'] = browser.find_by_css('h2.title').text\n",
    "    hemisphere_image_urls.append(hemisphere)\n",
    "    browser.back()"
   ]
  },
  {
   "cell_type": "code",
   "execution_count": 33,
   "id": "ccc2ea7f",
   "metadata": {},
   "outputs": [
    {
     "data": {
      "text/plain": [
       "[{'img_url': 'https://marshemispheres.com/images/full.jpg',\n",
       "  'title': 'Cerberus Hemisphere Enhanced'},\n",
       " {'img_url': 'https://marshemispheres.com/images/schiaparelli_enhanced-full.jpg',\n",
       "  'title': 'Schiaparelli Hemisphere Enhanced'},\n",
       " {'img_url': 'https://marshemispheres.com/images/syrtis_major_enhanced-full.jpg',\n",
       "  'title': 'Syrtis Major Hemisphere Enhanced'},\n",
       " {'img_url': 'https://marshemispheres.com/images/valles_marineris_enhanced-full.jpg',\n",
       "  'title': 'Valles Marineris Hemisphere Enhanced'}]"
      ]
     },
     "execution_count": 33,
     "metadata": {},
     "output_type": "execute_result"
    }
   ],
   "source": [
    "hemisphere_image_urls"
   ]
  },
  {
   "cell_type": "code",
   "execution_count": 34,
   "id": "646b2de5",
   "metadata": {},
   "outputs": [],
   "source": [
    "browser.quit()"
   ]
  }
 ],
 "metadata": {
  "kernelspec": {
   "display_name": "Python 3 (ipykernel)",
   "language": "python",
   "name": "python3"
  },
  "language_info": {
   "codemirror_mode": {
    "name": "ipython",
    "version": 3
   },
   "file_extension": ".py",
   "mimetype": "text/x-python",
   "name": "python",
   "nbconvert_exporter": "python",
   "pygments_lexer": "ipython3",
   "version": "3.8.8"
  }
 },
 "nbformat": 4,
 "nbformat_minor": 5
}
